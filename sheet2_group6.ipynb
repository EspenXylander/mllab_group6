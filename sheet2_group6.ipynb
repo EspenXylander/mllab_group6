{
 "cells": [
  {
   "cell_type": "code",
   "execution_count": 2,
   "metadata": {},
   "outputs": [],
   "source": [
    "#some imports\n",
    "\n",
    "import numpy as np\n",
    "from numpy import random\n",
    "from numpy import linalg\n",
    "from scipy.spatial import distance\n",
    "\n",
    "import matplotlib.pyplot as plt\n",
    "\n",
    "random.seed(0)"
   ]
  },
  {
   "cell_type": "code",
   "execution_count": 3,
   "metadata": {},
   "outputs": [],
   "source": [
    "#This function plots the contourline func(x) = value\n",
    "def plot_contour_line(func, value=0, x_values=np.empty(0)):\n",
    "    \n",
    "    minx = -1\n",
    "    maxx = 2\n",
    "    miny = -1\n",
    "    maxy = 2\n",
    "    \n",
    "    #print(np.array(x_values.shape))\n",
    "    if (np.array(x_values.shape)[1] ==2):\n",
    "        x_values = x_values.T\n",
    "    \n",
    "    # sets minx, etc. if x_values is a two-dimensoinal array of values\n",
    "    if np.array(x_values.shape).shape[0] > 1:\n",
    "        dim = np.array(x_values.shape)[0]\n",
    "        if dim==2:\n",
    "            minx = ((int)(np.amin(x_values[0])))-1.5\n",
    "            maxx = ((int)(np.amax(x_values[0])))+1.5\n",
    "            miny = ((int)(np.amin(x_values[1])))-1.5\n",
    "            maxy = ((int)(np.amax(x_values[1])))+1.5\n",
    "    samplenum = 100\n",
    "    xrange = np.arange(minx, maxx, (maxx-minx)/samplenum)\n",
    "    yrange = np.arange(miny, maxy, (maxy-miny)/samplenum)\n",
    "    \n",
    "    #This generates a two-dimensional mesh\n",
    "    X, Y = np.meshgrid(xrange,yrange)\n",
    "    # print(X,Y)\n",
    "    \n",
    "    argsForf = np.array([X.flatten(),Y.flatten()]).T\n",
    "    Z = func(argsForf)\n",
    "    Z = np.reshape(Z,X.shape)\n",
    "    \n",
    "    plt.xlim(minx, maxx)\n",
    "    plt.ylim(miny, maxy)\n",
    "    plt.xlabel(r'$x_1$')\n",
    "    plt.ylabel(r'$x_2$')\n",
    "    plt.contour(X, Y, Z, alpha=0.5,levels=[value],linestyles='dashed',linewidths=3)\n",
    "    Z = np.where(Z > value, 1, -1)\n",
    "    plt.contourf(X, Y, Z, alpha=0.2, cmap=plt.cm.coolwarm)"
   ]
  },
  {
   "cell_type": "markdown",
   "metadata": {},
   "source": [
    "-------------------------------------------\n",
    "# Task 2.1\n",
    "We implement the one step minimialisation algorithm for the sequential minimal optimization. "
   ]
  },
  {
   "cell_type": "code",
   "execution_count": 4,
   "metadata": {},
   "outputs": [],
   "source": [
    "def one_step(beta, y, x, b, i, j, C):\n",
    "    \"\"\"beta: (n); y: (n); x: (n, d); b, i, j, C scalar\"\"\"\n",
    "    #beta_old = np.zeros(0, n)\n",
    "    #beta_old[j] = beta[j]\n",
    "    #beta_old[i] = beta[i]\n",
    "    \n",
    "    f = lambda xk: np.multiply(beta, y) @ (x @ xk) + b\n",
    "    delta = y[i]*((f(x[j])-y[j]) - (f(x[i])-y[i]))\n",
    "    s = y[i] * y[j]\n",
    "    chi = x[i] @ x[i] + x[j] @ x[j] - 2 * (x[i] @ x[j])\n",
    "    gamma = s*beta[i] + beta[j]\n",
    "    if s==1:\n",
    "        if gamma - C > 0:\n",
    "            L = gamma - C\n",
    "            H = C\n",
    "        else:\n",
    "            L = 0\n",
    "            H = gamma\n",
    "    else:\n",
    "        if gamma > 0:\n",
    "            L = 0\n",
    "            H = C - gamma\n",
    "        else:\n",
    "            L = -gamma\n",
    "            H = C\n",
    "    if chi > 0:\n",
    "        if beta[i] + delta / chi > L:\n",
    "            if beta[i] + delta / chi > H:\n",
    "                beta[i] = H\n",
    "            else:\n",
    "                beta[i] = beta[i] + delta / chi\n",
    "        else:\n",
    "            if L > H:\n",
    "                beta[i] = H\n",
    "            else:\n",
    "                beta[i] = L\n",
    "    elif delta > 0:\n",
    "        beta[i] = L\n",
    "    else:\n",
    "        beta[i] = H\n",
    "    beta[j] = gamma - s*beta[i]\n",
    "    f = lambda xk: np.multiply(beta, y) @ (x @ xk) + b\n",
    "    b = b - 1/2*(f(x[i]) - y[i] + f(x[j]) - y[j])\n",
    "    return b, beta"
   ]
  },
  {
   "cell_type": "markdown",
   "metadata": {},
   "source": [
    "--------------------\n",
    "# Task 2.2\n",
    "We create exponentialy distributed test data."
   ]
  },
  {
   "cell_type": "code",
   "execution_count": 5,
   "metadata": {},
   "outputs": [],
   "source": [
    "def create_test_data(d = 2, n = 40, lambda_1 = 4, lambda_2 = 0.5, lable_1 = -1, lable_2 = 1):\n",
    "    x_group_1 = np.random.exponential(1/lambda_1, (int)(n/2 * d)).reshape(((int)(n/2), d))\n",
    "    x_group_2 = np.random.exponential(1/lambda_2, (int)(n/2 * d)).reshape(((int)(n/2), d))\n",
    "    x = np.vstack((x_group_1, x_group_2))\n",
    "    y = np.hstack((np.full((int)(n/2), lable_1), np.full((int)(n/2), lable_2)))\n",
    "    return x, y"
   ]
  },
  {
   "cell_type": "markdown",
   "metadata": {},
   "source": [
    "------------------------------------------\n",
    "# Task 2.3\n",
    "We calculate our SMO model with iteration. Initialize beta and b with 0 and work with one_step function."
   ]
  },
  {
   "cell_type": "code",
   "execution_count": 6,
   "metadata": {},
   "outputs": [],
   "source": [
    "def sequential_minimal_optimization(x, y, C, iterations = 10000):\n",
    "    \"\"\"optimize the classification with SMO. \n",
    "    Enter x_k values in x of shape (n, d), y values of shape (n). C>0 is the regularization.\"\"\"\n",
    "    ## task a\n",
    "    b = 0\n",
    "    beta = np.zeros(x.shape[0])\n",
    "    \n",
    "    for k in np.arange(0, iterations):\n",
    "        i = np.random.randint(0, x.shape[0])\n",
    "        j = np.random.randint(0, x.shape[0]-1)\n",
    "        if j>=i:\n",
    "            j += 1\n",
    "        b, beta = one_step(beta, y, x, b, i, j, C)\n",
    "        \n",
    "    ## task b\n",
    "    f = lambda xk: np.multiply(beta.T, y) @ (x @ xk.T) + b\n",
    "    med = np.median(np.subtract(f(x[beta>0]), y[beta>0]))\n",
    "    b -= med\n",
    "    \n",
    "    \n",
    "    f = lambda xk: np.multiply(beta.T, y) @ (x @ xk.T) + b\n",
    "    return f, beta"
   ]
  },
  {
   "cell_type": "code",
   "execution_count": 7,
   "metadata": {
    "scrolled": false
   },
   "outputs": [
    {
     "data": {
      "image/png": "[encoded data removed]",
      "text/plain": [
       "<Figure size 432x288 with 1 Axes>"
      ]
     },
     "metadata": {
      "needs_background": "light"
     },
     "output_type": "display_data"
    },
    {
     "data": {
      "image/png": "[encoded data removed]",
      "text/plain": [
       "<Figure size 432x288 with 1 Axes>"
      ]
     },
     "metadata": {
      "needs_background": "light"
     },
     "output_type": "display_data"
    },
    {
     "data": {
      "image/png": "[encoded data removed]",
      "text/plain": [
       "<Figure size 432x288 with 1 Axes>"
      ]
     },
     "metadata": {
      "needs_background": "light"
     },
     "output_type": "display_data"
    }
   ],
   "source": [
    "x, y = create_test_data()\n",
    "for C in (0.01, 1, 100):\n",
    "    f, beta = sequential_minimal_optimization(x, y, C)\n",
    "    plt.plot(x[:20,0], x[:20,1], 'bo')\n",
    "    plt.plot(x[20:,0], x[20:,1], 'ro')\n",
    "    plot_contour_line(f, 0, x)\n",
    "    plt.show()"
   ]
  },
  {
   "cell_type": "code",
   "execution_count": 8,
   "metadata": {},
   "outputs": [],
   "source": [
    "# task c + d\n",
    "def get_support_and_margin_defining_verctors(x, beta, C, n):\n",
    "        is_support_vector = beta>0\n",
    "        is_margin_defining_vector = np.logical_and(is_support_vector, C>beta)\n",
    "        return x[is_support_vector], x[is_margin_defining_vector]"
   ]
  },
  {
   "cell_type": "code",
   "execution_count": 9,
   "metadata": {
    "scrolled": false
   },
   "outputs": [
    {
     "name": "stdout",
     "output_type": "stream",
     "text": [
      "C: 0.01\n",
      "38 support vectors\n",
      "2 margin defining vectors\n"
     ]
    },
    {
     "data": {
      "image/png": "[encoded data removed]",
      "text/plain": [
       "<Figure size 432x288 with 1 Axes>"
      ]
     },
     "metadata": {
      "needs_background": "light"
     },
     "output_type": "display_data"
    },
    {
     "name": "stdout",
     "output_type": "stream",
     "text": [
      "C: 1\n",
      "19 support vectors\n",
      "3 margin defining vectors\n"
     ]
    },
    {
     "data": {
      "image/png": "[encoded data removed]",
      "text/plain": [
       "<Figure size 432x288 with 1 Axes>"
      ]
     },
     "metadata": {
      "needs_background": "light"
     },
     "output_type": "display_data"
    },
    {
     "name": "stdout",
     "output_type": "stream",
     "text": [
      "C: 100\n",
      "18 support vectors\n",
      "5 margin defining vectors\n"
     ]
    },
    {
     "data": {
      "image/png": "[encoded data removed]",
      "text/plain": [
       "<Figure size 432x288 with 1 Axes>"
      ]
     },
     "metadata": {
      "needs_background": "light"
     },
     "output_type": "display_data"
    }
   ],
   "source": [
    "x, y = create_test_data()\n",
    "\n",
    "for C in (0.01, 1, 100):\n",
    "    f, beta = sequential_minimal_optimization(x, y, C)\n",
    "    sup_vec, marg_vec = get_support_and_margin_defining_verctors(x, beta, C, 40)\n",
    "    print(\"C: \" + str(C))\n",
    "    print(str(sup_vec.shape[0]) + \" support vectors\")\n",
    "    print(str(marg_vec.shape[0]) + \" margin defining vectors\")\n",
    "    plt.plot(x[:20,0], x[:20,1], 'bo')\n",
    "    plt.plot(x[20:,0], x[20:,1], 'ro')\n",
    "    plt.plot(sup_vec[:,0], sup_vec[:,1], 'w+')\n",
    "    plt.plot(marg_vec[:,0], marg_vec[:,1], 'kx')\n",
    "    plot_contour_line(f, 0, x)\n",
    "    plt.show()"
   ]
  },
  {
   "cell_type": "markdown",
   "metadata": {},
   "source": [
    "--------------\n",
    "# Task 2.4\n",
    "We get the LLS and tha accuracy form the first sheet. Then we plot the accuracys of the LLS model vs the various SVM with different C."
   ]
  },
  {
   "cell_type": "code",
   "execution_count": 10,
   "metadata": {},
   "outputs": [],
   "source": [
    "# copies from sheet 1\n",
    "def generate_LLS_model(x,y):\n",
    "    \"\"\"x:(n,d); y:(n); output: (n)\"\"\"\n",
    "    \n",
    "    #reorganize the data in a matrix with the first row being (1,...,1)^T\n",
    "    X_hat = np.asmatrix(np.hstack((np.ones((x.shape[0],1)),x)))\n",
    "\n",
    "    #solve for the best alpha which mimimines ||X_hat * alpha - y||^2\n",
    "    alpha = np.linalg.solve(X_hat.T @ X_hat, X_hat.T @ np.asmatrix(y).T)\n",
    "    \n",
    "    #implements the linear function based on the previously generated alpha\n",
    "    f = lambda z: (alpha[0,0] + z @ alpha[1:]).flatten()\n",
    "    \n",
    "    return f\n"
   ]
  },
  {
   "cell_type": "code",
   "execution_count": 11,
   "metadata": {},
   "outputs": [],
   "source": [
    "\n",
    "def classification_accuracy(data,label, classes,f,value = 0):\n",
    "    \"\"\"Calculates the accuracy of a 2 classes classification funcion f. Data : (n,d), label: (n), classes 2-tuple\"\"\"\n",
    "        \n",
    "    is_class_0 = f(data) < value\n",
    "    is_class_1 = np.logical_not(is_class_0)\n",
    "        \n",
    "    \n",
    "    label_0 = label == classes[0]\n",
    "    label_1 = label == classes[1]\n",
    "    correct_class_0 = np.count_nonzero(np.logical_and(label_0, is_class_0))\n",
    "    correct_class_1 = np.count_nonzero(np.logical_and(label_1, is_class_1))\n",
    "    \n",
    "    \n",
    "    return (correct_class_0 + correct_class_1)/(data.shape[0])"
   ]
  },
  {
   "cell_type": "code",
   "execution_count": 12,
   "metadata": {},
   "outputs": [
    {
     "name": "stdout",
     "output_type": "stream",
     "text": [
      "--------------------------\n",
      "C: 0.01\n",
      "\n",
      "LLS model:\n",
      "accuracy: 0.848\n",
      "SMO model:\n",
      "accuracy: 0.915\n",
      "\n",
      "--------------------------\n",
      "C: 1\n",
      "\n",
      "LLS model:\n",
      "accuracy: 0.848\n",
      "SMO model:\n",
      "accuracy: 0.9045\n",
      "\n",
      "--------------------------\n",
      "C: 100\n",
      "\n",
      "LLS model:\n",
      "accuracy: 0.848\n",
      "SMO model:\n",
      "accuracy: 0.899\n",
      "\n"
     ]
    }
   ],
   "source": [
    "x, y = create_test_data(d = 2, n = 2000)\n",
    "f_LLS = generate_LLS_model(x,y)\n",
    "\n",
    "LLS_accuracy = classification_accuracy(x,y,(-1,1),f_LLS)\n",
    "\n",
    "for C in (0.01, 1, 100):\n",
    "    f_SMO, beta = sequential_minimal_optimization(x, y, C, iterations = 10000)\n",
    "    print(\"--------------------------\")\n",
    "    print(\"C: \" + str(C))\n",
    "    print()\n",
    "    \n",
    "    print(\"LLS model:\")\n",
    "    print(\"accuracy: \" + str(LLS_accuracy))\n",
    "    \n",
    "    print(\"SMO model:\")\n",
    "    print(\"accuracy: \" + str(classification_accuracy(x,y,(-1,1),f_SMO,value=0)))\n",
    "    print()\n",
    "    \n",
    "    \"\"\"argsForf = np.array([X.flatten(),Y.flatten()]).T\n",
    "    Z = func(argsForf)\n",
    "    Z = np.reshape(Z,X.shape)\n",
    "    \n",
    "    plt.xlim(minx, maxx)\n",
    "    plt.ylim(miny, maxy)\n",
    "    plt.xlabel(r'$x_1$')\n",
    "    plt.ylabel(r'$x_2$')\n",
    "    plt.contour(X, Y, Z, alpha=0.5,levels=[value],linestyles='dashed',linewidths=3)\n",
    "    Z = np.where(Z > value, 1, -1)\"\"\""
   ]
  },
  {
   "cell_type": "markdown",
   "metadata": {},
   "source": [
    "----------------\n",
    "# Task 2.6\n",
    "We create a uniform distribution as instructed in the exercise. Then we use the linear SVM to calssify, followed by the non linear SVM using $\\phi$"
   ]
  },
  {
   "cell_type": "code",
   "execution_count": 13,
   "metadata": {},
   "outputs": [],
   "source": [
    "# This is actually not a uniform distribution. We tend to have a lot of points around (0,0)^T.\n",
    "\n",
    "def generate_data_circle(n = 100, radius_1 = 1, radius_2 = 2, lable_1 = -1, lable_2 = 1):\n",
    "    alpha = np.random.uniform(0, 2 * np.pi, n)\n",
    "    \n",
    "    r1 = np.random.uniform(0, radius_1, (int)(n/2))\n",
    "    r2 = np.random.uniform(radius_1, radius_2, (int)(n/2))\n",
    "    \n",
    "    x_val1 = r1 * np.exp(alpha[: (int)(n/2)] * 1j)\n",
    "    x_val2 = r2 * np.exp(alpha[(int)(n/2):] * 1j)\n",
    "    \n",
    "    y = np.hstack((np.full((int)(n/2), lable_1), np.full((int)(n/2), lable_2)))\n",
    "\n",
    "    x = np.hstack((x_val1, x_val2))\n",
    "    x = np.hstack((x.real.reshape(100, 1), x.imag.reshape(100, 1)))\n",
    "    \n",
    "    return x, y\n",
    "\n"
   ]
  },
  {
   "cell_type": "code",
   "execution_count": 15,
   "metadata": {},
   "outputs": [],
   "source": [
    "def plot_generated_data(x):\n",
    "    plt.plot(x[:len(x)//2,0], x[:len(x)//2,1], 'bo')\n",
    "    plt.plot(x[len(x)//2:,0], x[len(x)//2:,1], 'ro')\n",
    "    #return x, y"
   ]
  },
  {
   "cell_type": "code",
   "execution_count": 25,
   "metadata": {},
   "outputs": [
    {
     "data": {
      "image/png": "[encoded data removed]",
      "text/plain": [
       "<Figure size 432x288 with 1 Axes>"
      ]
     },
     "metadata": {
      "needs_background": "light"
     },
     "output_type": "display_data"
    }
   ],
   "source": [
    "\n",
    "def generate_data_uniform(n,d, r1=1,r2=2,label_0=-1,label_1=1):\n",
    "    R = max(r1,r2)\n",
    "    r = min(r1,r2)\n",
    "    data_1 = np.random.uniform(-r,r,(n//2,d))\n",
    "    for i in range(len(data_1)):\n",
    "        while np.dot(data_1[i],data_1[i])>r**2:\n",
    "            #print(\"t\")\n",
    "            data_1[i] = np.random.uniform(-r,r, 2)\n",
    "    \n",
    "    data_2 = np.random.uniform(-R,R,(n-(n//2),d))\n",
    "    for i in range(len(data_2)):\n",
    "        while np.dot(data_2[i],data_2[i])<r**2 or np.dot(data_2[i],data_2[i])>R**2:\n",
    "            #print(\"t\")\n",
    "            data_2[i] = np.random.uniform(-R,R, 2)\n",
    "    return np.vstack((data_1,data_2))\n",
    "            \n",
    "x = generate_data_uniform(1000,2)\n",
    "plot_generated_data(x)\n",
    "plt.show()"
   ]
  },
  {
   "cell_type": "code",
   "execution_count": 26,
   "metadata": {},
   "outputs": [
    {
     "data": {
      "text/plain": [
       "[<matplotlib.lines.Line2D at 0x7f0c9245bd68>]"
      ]
     },
     "execution_count": 26,
     "metadata": {},
     "output_type": "execute_result"
    },
    {
     "data": {
      "image/png": "[encoded data removed]",
      "text/plain": [
       "<Figure size 432x288 with 1 Axes>"
      ]
     },
     "metadata": {
      "needs_background": "light"
     },
     "output_type": "display_data"
    }
   ],
   "source": [
    "x, y = generate_data_circle()\n",
    "#print(x.shape)\n",
    "\n",
    "plot_generated_data(x)\n",
    "lin = np.linspace(0,2*np.pi, 40)\n",
    "sphere = np.exp(lin*1j)\n",
    "plt.plot(sphere.real, sphere.imag)"
   ]
  },
  {
   "cell_type": "markdown",
   "metadata": {},
   "source": [
    "Here we  plot the linear SVM"
   ]
  },
  {
   "cell_type": "code",
   "execution_count": 27,
   "metadata": {
    "scrolled": false
   },
   "outputs": [
    {
     "data": {
      "image/png": "[encoded data removed]",
      "text/plain": [
       "<Figure size 432x288 with 1 Axes>"
      ]
     },
     "metadata": {
      "needs_background": "light"
     },
     "output_type": "display_data"
    }
   ],
   "source": [
    "# task a\n",
    "\n",
    "plot_generated_data(x)\n",
    "f_1, beta = sequential_minimal_optimization(x, y, C = 10, iterations = 10000)\n",
    "plot_contour_line(f_1, 0, x)"
   ]
  },
  {
   "cell_type": "code",
   "execution_count": 28,
   "metadata": {},
   "outputs": [],
   "source": [
    "# task b\n",
    "def phi(x):\n",
    "    x0 = x[:,0].reshape(x.shape[0], 1)\n",
    "    x1 = x[:,1].reshape(x.shape[0], 1)\n",
    "    x2 = (np.add( np.square(x[:,0]) , np.square(x[:,1])) ).reshape(x.shape[0], 1)\n",
    "    return np.hstack((x0,x1,x2))"
   ]
  },
  {
   "cell_type": "code",
   "execution_count": 29,
   "metadata": {
    "scrolled": false
   },
   "outputs": [
    {
     "data": {
      "image/png": "[encoded data removed]",
      "text/plain": [
       "<Figure size 432x288 with 1 Axes>"
      ]
     },
     "metadata": {
      "needs_background": "light"
     },
     "output_type": "display_data"
    }
   ],
   "source": [
    "\n",
    "plot_generated_data(x)\n",
    "x_phi = phi(x)\n",
    "\n",
    "f_phi, beta = sequential_minimal_optimization(x_phi, y, C = 10, iterations = 10000)\n",
    "plot_contour_line(lambda z: f_phi(phi(z)), 0, x)"
   ]
  },
  {
   "cell_type": "markdown",
   "metadata": {},
   "source": [
    "---------------------------\n",
    "# Task 2.7\n",
    "\n",
    "We repeat the earlier steps with a kernel as new scalar product."
   ]
  },
  {
   "cell_type": "code",
   "execution_count": 30,
   "metadata": {},
   "outputs": [],
   "source": [
    "def one_step_kernel(beta, y, x, b, i, j, C, kernel):\n",
    "    \"\"\"beta: (n); y: (n); x: (n, d); b, n, i, j, C scalar\"\"\"\n",
    "    #beta_old = np.zeros(0, n)\n",
    "    #beta_old[j] = beta[j]\n",
    "    #beta_old[i] = beta[i]\n",
    "    \n",
    "    f = lambda xk: np.multiply(beta, y) @ kernel(x, xk) + b\n",
    "    delta = y[i]*((f(x[j])-y[j]) - (f(x[i])-y[i]))\n",
    "    s = y[i] * y[j]\n",
    "    \n",
    "    #print (x[i].shape)\n",
    "    \n",
    "    chi = kernel(x[i], x[i]) + kernel(x[j], x[j]) - 2 * kernel(x[i], x[j])\n",
    "    gamma = s*beta[i] + beta[j]\n",
    "    if s==1:\n",
    "        if gamma - C > 0:\n",
    "            L = gamma - C\n",
    "            H = C\n",
    "        else:\n",
    "            L = 0\n",
    "            H = gamma\n",
    "    else:\n",
    "        if gamma > 0:\n",
    "            L = 0\n",
    "            H = C - gamma\n",
    "        else:\n",
    "            L = -gamma\n",
    "            H = C\n",
    "    if chi > 0:\n",
    "        if beta[i] + delta / chi > L:\n",
    "            if beta[i] + delta / chi > H:\n",
    "                beta[i] = H\n",
    "            else:\n",
    "                beta[i] = beta[i] + delta / chi\n",
    "        else:\n",
    "            if L > H:\n",
    "                beta[i] = H\n",
    "            else:\n",
    "                beta[i] = L\n",
    "    elif delta > 0:\n",
    "        beta[i] = L\n",
    "    else:\n",
    "        beta[i] = H\n",
    "    beta[j] = gamma - s*beta[i]\n",
    "    f = lambda xk: np.multiply(beta, y) @ kernel(x, xk) + b\n",
    "    b = b - 1/2*(f(x[i]) - y[i] + f(x[j]) - y[j])\n",
    "    return b, beta\n"
   ]
  },
  {
   "cell_type": "code",
   "execution_count": 31,
   "metadata": {},
   "outputs": [],
   "source": [
    "def generate_SMO_kernel(x, y, C, kernel, iterations = 10000):\n",
    "    \"\"\"optimize the classification with SMO. \n",
    "    Enter x_k values in x of shape (n, d), y values of shape (n). C>0 is the regularization.\"\"\"\n",
    "    ## task a\n",
    "    b = 0\n",
    "    beta = np.zeros(x.shape[0])\n",
    "    \n",
    "    for k in np.arange(0, iterations):\n",
    "        i = np.random.randint(0, x.shape[0])\n",
    "        j = np.random.randint(0, x.shape[0]-1)\n",
    "        if j>=i:\n",
    "            j += 1\n",
    "        b, beta = one_step_kernel(beta, y, x, b, i, j, C, kernel)\n",
    "        \n",
    "    ## task b\n",
    "    f = lambda xk: np.multiply(beta, y) @ kernel(x, xk) + b\n",
    "    \n",
    "    med = np.median(np.subtract(f(x[beta>0]), y[beta>0]))\n",
    "    #med = np.median(np.subtract(np.apply_along_axis(f, 1, x[beta>0]), y[beta>0]))\n",
    "    \n",
    "    b = b-med\n",
    "    f = lambda xk: np.multiply(beta, y) @ kernel(x, xk) + b\n",
    "    return f, beta"
   ]
  },
  {
   "cell_type": "markdown",
   "metadata": {},
   "source": [
    "We define the gaussian kernel and apply it to our uniform data."
   ]
  },
  {
   "cell_type": "code",
   "execution_count": 32,
   "metadata": {},
   "outputs": [],
   "source": [
    "def gaussian_kernel(x,y,sigma = 1):\n",
    "    \"\"\"Calculates the gaussian kernel of x,y with sigma. \n",
    "    If x,y are (d) returns scalar.\n",
    "    If x: (n,d) and y: (m,d) returns (n x m)-array with all kernel products\n",
    "    \"\"\"\n",
    "    #print(type(y))\n",
    "    \n",
    "    if x.ndim == 1 and y.ndim == 1:\n",
    "        return np.exp((-.5) * np.square(distance.euclidean(x,y)/sigma) )\n",
    "    \n",
    "    #reshape if dimensions do not fit\n",
    "    if y.ndim == 1:\n",
    "        y = y.reshape((1,2))\n",
    "    elif x.ndim == 1:\n",
    "        x = x.reshape((1,2))\n",
    "\n",
    "    dists_squared = np.square( distance.cdist(x,y) / sigma )\n",
    "    \n",
    "    return np.exp((-.5) * dists_squared)"
   ]
  },
  {
   "cell_type": "code",
   "execution_count": 33,
   "metadata": {
    "scrolled": false
   },
   "outputs": [
    {
     "data": {
      "image/png": "[encoded data removed]",
      "text/plain": [
       "<Figure size 432x288 with 1 Axes>"
      ]
     },
     "metadata": {
      "needs_background": "light"
     },
     "output_type": "display_data"
    }
   ],
   "source": [
    "x, y = generate_data_circle()\n",
    "C = 10\n",
    "\n",
    "plot_generated_data(x)\n",
    "plt.plot(x[beta>0,0],x[beta>0,1], 'kx')\n",
    "plt.plot(x[np.logical_and(beta>0,beta<C),0],x[np.logical_and(beta>0,beta<C),1], 'w+')\n",
    "\n",
    "f_SMO_kernel, beta = generate_SMO_kernel(x, y, C, lambda x,y: gaussian_kernel(x,y, sigma=1),iterations = 10000)\n",
    "plot_contour_line(f_SMO_kernel, 0, x)"
   ]
  },
  {
   "cell_type": "markdown",
   "metadata": {},
   "source": [
    "---------------------------\n",
    " # Task 2.8\n",
    " \n",
    " Unfortunately we did not finish task 2.8 in time. We had not enough time."
   ]
  },
  {
   "cell_type": "code",
   "execution_count": 43,
   "metadata": {},
   "outputs": [
    {
     "name": "stderr",
     "output_type": "stream",
     "text": [
      "/home/s_tep/anaconda3/lib/python3.7/site-packages/numpy/core/fromnumeric.py:2920: RuntimeWarning: Mean of empty slice.\n",
      "  out=out, **kwargs)\n",
      "/home/s_tep/anaconda3/lib/python3.7/site-packages/numpy/core/_methods.py:85: RuntimeWarning: invalid value encountered in double_scalars\n",
      "  ret = ret.dtype.type(ret / rcount)\n",
      "/home/s_tep/anaconda3/lib/python3.7/site-packages/ipykernel_launcher.py:5: RuntimeWarning: invalid value encountered in less\n",
      "  \"\"\"\n"
     ]
    },
    {
     "name": "stdout",
     "output_type": "stream",
     "text": [
      "sigma:1 C:1 Accuracy:0.5\n",
      "sigma:1 C:10 Accuracy:0.9396910279263221\n",
      "sigma:10 C:1 Accuracy:0.5\n",
      "sigma:10 C:10 Accuracy:0.6283422459893048\n"
     ]
    }
   ],
   "source": [
    "def k_cross_validation (k,x,y,sig_vals,C_vals):\n",
    "    if k == 0: return None\n",
    "    \n",
    "    D_indices = np.array([(i%k) for i in np.arange(len(x))])\n",
    "    np.random.shuffle(D_indices)\n",
    "    \n",
    "    A = np.zeros((len(sig_vals),len(C_vals)))\n",
    "    for sig in range(len(sig_vals)):\n",
    "        kernel = lambda x,t: gaussian_kernel(x,t, sigma=sig_vals[sig])\n",
    "        for C in range(len(C_vals)):\n",
    "            for i in range(k):\n",
    "                f, beta = generate_SMO_kernel(x[D_indices!=i], y[D_indices!=i], C, kernel,iterations = 1000)\n",
    "                A[sig,C] += classification_accuracy(x[D_indices==i],y[D_indices==i], (-1,1),f,value = 0)\n",
    "            A[sig,C] /= k\n",
    "            print(\"sigma:\"+str(sig_vals[sig])+\" C:\"+str(C_vals[C])+\" Accuracy:\"+str(A[sig,C]))\n",
    "    return\n",
    "k_cross_validation(3,x,y,(1,10),(1,10))"
   ]
  },
  {
   "cell_type": "code",
   "execution_count": 44,
   "metadata": {},
   "outputs": [
    {
     "ename": "NameError",
     "evalue": "name 'had' is not defined",
     "output_type": "error",
     "traceback": [
      "\u001b[0;31m---------------------------------------------------------------------------\u001b[0m",
      "\u001b[0;31mNameError\u001b[0m                                 Traceback (most recent call last)",
      "\u001b[0;32m<ipython-input-44-25295ab43005>\u001b[0m in \u001b[0;36m<module>\u001b[0;34m()\u001b[0m\n\u001b[1;32m      5\u001b[0m \u001b[0;34m\u001b[0m\u001b[0m\n\u001b[1;32m      6\u001b[0m \u001b[0;32mfrom\u001b[0m \u001b[0msklearn\u001b[0m\u001b[0;34m.\u001b[0m\u001b[0msvm\u001b[0m \u001b[0;32mimport\u001b[0m \u001b[0mSVC\u001b[0m\u001b[0;34m\u001b[0m\u001b[0m\n\u001b[0;32m----> 7\u001b[0;31m \u001b[0mhad\u001b[0m\u001b[0;34m\u001b[0m\u001b[0m\n\u001b[0m\u001b[1;32m      8\u001b[0m \u001b[0;34m\u001b[0m\u001b[0m\n\u001b[1;32m      9\u001b[0m \u001b[0;32mdef\u001b[0m \u001b[0mdownload\u001b[0m\u001b[0;34m(\u001b[0m\u001b[0mfilename\u001b[0m \u001b[0;34m,\u001b[0m \u001b[0msource\u001b[0m\u001b[0;34m=\u001b[0m\u001b[0;34m'http://yann.lecun.com/exdb/mnist/'\u001b[0m\u001b[0;34m)\u001b[0m\u001b[0;34m:\u001b[0m\u001b[0;34m\u001b[0m\u001b[0m\n",
      "\u001b[0;31mNameError\u001b[0m: name 'had' is not defined"
     ]
    }
   ],
   "source": [
    "#Load MNIST Data\n",
    "import os\n",
    "import gzip\n",
    "from urllib.request import urlretrieve\n",
    "\n",
    "from sklearn.svm import SVC\n",
    "had \n",
    "\n",
    "def download(filename , source='http://yann.lecun.com/exdb/mnist/'):\n",
    "    print(\"Downloading %s\" % filename)\n",
    "    urlretrieve(source + filename , filename)\n",
    "    \n",
    "def load_mnist_images(filename):\n",
    "    if not os.path.exists(filename):\n",
    "        download(filename)\n",
    "    with gzip.open(filename, 'rb') as f:\n",
    "        data = np.frombuffer(f.read(), np.uint8, offset=16)\n",
    "    data = data.reshape(-1, 28, 28)\n",
    "    return data / np.float32(256)\n",
    "\n",
    "def load_mnist_labels(filename):\n",
    "    if not os.path.exists(filename):\n",
    "        download(filename)\n",
    "    with gzip.open(filename, 'rb') as f:\n",
    "        data = np.frombuffer(f.read(), np.uint8, offset=8)\n",
    "    return data\n",
    "X_train = load_mnist_images('train-images-idx3-ubyte.gz')\n",
    "y_train = load_mnist_labels('train-labels-idx1-ubyte.gz')\n",
    "X_test = load_mnist_images('t10k-images-idx3-ubyte.gz')\n",
    "y_test = load_mnist_labels('t10k-labels-idx1-ubyte.gz')"
   ]
  },
  {
   "cell_type": "code",
   "execution_count": null,
   "metadata": {},
   "outputs": [],
   "source": [
    "choice = (np.array([True]*500 + [False]*(len(X_train)-500)))\n",
    "np.random.shuffle(choice)\n",
    "print(choice)\n",
    "\n",
    "X_500 = (X_train[choice])#.reshape(500,24**2)\n",
    "X_500 = np.array([x for x in X_500]).reshape((500,28**2))\n",
    "\n",
    "y_500 = (y_train[choice]).reshape(500)\n",
    "print(X_500.shape)\n",
    "\n",
    "model = SVC(gamma = 'auto')\n",
    "model.fit(X_500,y_500)\n",
    "#print(y_500)\n",
    "for i in np.arange(0, 10):\n",
    "    sieve = np.logical_not(y_500-i)"
   ]
  },
  {
   "cell_type": "code",
   "execution_count": null,
   "metadata": {},
   "outputs": [],
   "source": []
  },
  {
   "cell_type": "code",
   "execution_count": null,
   "metadata": {},
   "outputs": [],
   "source": []
  }
 ],
 "metadata": {
  "kernelspec": {
   "display_name": "Python 3",
   "language": "python",
   "name": "python3"
  },
  "language_info": {
   "codemirror_mode": {
    "name": "ipython",
    "version": 3
   },
   "file_extension": ".py",
   "mimetype": "text/x-python",
   "name": "python",
   "nbconvert_exporter": "python",
   "pygments_lexer": "ipython3",
   "version": "3.7.0"
  }
 },
 "nbformat": 4,
 "nbformat_minor": 2
}
