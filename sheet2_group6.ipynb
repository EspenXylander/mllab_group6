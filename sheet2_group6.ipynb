{
 "cells": [
  {
   "cell_type": "code",
   "execution_count": 3,
   "metadata": {},
   "outputs": [],
   "source": [
    "#some imports\n",
    "\n",
    "import numpy as np\n",
    "from numpy import random\n",
    "from numpy import linalg\n",
    "from scipy.spatial import distance\n",
    "\n",
    "import matplotlib.pyplot as plt\n",
    "\n",
    "random.seed(0)"
   ]
  },
  {
   "cell_type": "code",
   "execution_count": 4,
   "metadata": {},
   "outputs": [],
   "source": [
    "#This function plots the contourline func(x) = value\n",
    "def plot_contour_line(func, value=0, x_values=np.empty(0)):\n",
    "    \n",
    "    minx = -1\n",
    "    maxx = 2\n",
    "    miny = -1\n",
    "    maxy = 2\n",
    "    \n",
    "    #print(np.array(x_values.shape))\n",
    "    if (np.array(x_values.shape)[1] ==2):\n",
    "        x_values = x_values.T\n",
    "    \n",
    "    # sets minx, etc. if x_values is a two-dimensoinal array of values\n",
    "    if np.array(x_values.shape).shape[0] > 1:\n",
    "        dim = np.array(x_values.shape)[0]\n",
    "        if dim==2:\n",
    "            minx = ((int)(np.amin(x_values[0])))-1.5\n",
    "            maxx = ((int)(np.amax(x_values[0])))+1.5\n",
    "            miny = ((int)(np.amin(x_values[1])))-1.5\n",
    "            maxy = ((int)(np.amax(x_values[1])))+1.5\n",
    "    samplenum = 100\n",
    "    xrange = np.arange(minx, maxx, (maxx-minx)/samplenum)\n",
    "    yrange = np.arange(miny, maxy, (maxy-miny)/samplenum)\n",
    "    \n",
    "    #This generates a two-dimensional mesh\n",
    "    X, Y = np.meshgrid(xrange,yrange)\n",
    "    # print(X,Y)\n",
    "    \n",
    "    argsForf = np.array([X.flatten(),Y.flatten()]).T\n",
    "    Z = func(argsForf)\n",
    "    Z = np.reshape(Z,X.shape)\n",
    "    \n",
    "    plt.xlim(minx, maxx)\n",
    "    plt.ylim(miny, maxy)\n",
    "    plt.xlabel(r'$x_1$')\n",
    "    plt.ylabel(r'$x_2$')\n",
    "    plt.contour(X, Y, Z, alpha=0.5,levels=[value],linestyles='dashed',linewidths=3)\n",
    "    Z = np.where(Z > value, 1, -1)\n",
    "    plt.contourf(X, Y, Z, alpha=0.2, cmap=plt.cm.coolwarm)"
   ]
  },
  {
   "cell_type": "markdown",
   "metadata": {},
   "source": [
    "-------------------------------------------\n",
    "# Task 2.1\n",
    "We implement the one step minimialisation algorithm for the sequential minimal optimization. "
   ]
  },
  {
   "cell_type": "code",
   "execution_count": 5,
   "metadata": {},
   "outputs": [],
   "source": [
    "def one_step(beta, y, x, b, i, j, C):\n",
    "    \"\"\"beta: (n); y: (n); x: (n, d); b, i, j, C scalar\"\"\"\n",
    "    #beta_old = np.zeros(0, n)\n",
    "    #beta_old[j] = beta[j]\n",
    "    #beta_old[i] = beta[i]\n",
    "    \n",
    "    f = lambda xk: np.multiply(beta, y) @ (x @ xk) + b\n",
    "    delta = y[i]*((f(x[j])-y[j]) - (f(x[i])-y[i]))\n",
    "    s = y[i] * y[j]\n",
    "    chi = x[i] @ x[i] + x[j] @ x[j] - 2 * (x[i] @ x[j])\n",
    "    gamma = s*beta[i] + beta[j]\n",
    "    if s==1:\n",
    "        if gamma - C > 0:\n",
    "            L = gamma - C\n",
    "            H = C\n",
    "        else:\n",
    "            L = 0\n",
    "            H = gamma\n",
    "    else:\n",
    "        if gamma > 0:\n",
    "            L = 0\n",
    "            H = C - gamma\n",
    "        else:\n",
    "            L = -gamma\n",
    "            H = C\n",
    "    if chi > 0:\n",
    "        if beta[i] + delta / chi > L:\n",
    "            if beta[i] + delta / chi > H:\n",
    "                beta[i] = H\n",
    "            else:\n",
    "                beta[i] = beta[i] + delta / chi\n",
    "        else:\n",
    "            if L > H:\n",
    "                beta[i] = H\n",
    "            else:\n",
    "                beta[i] = L\n",
    "    elif delta > 0:\n",
    "        beta[i] = L\n",
    "    else:\n",
    "        beta[i] = H\n",
    "    beta[j] = gamma - s*beta[i]\n",
    "    f = lambda xk: np.multiply(beta, y) @ (x @ xk) + b\n",
    "    b = b - 1/2*(f(x[i]) - y[i] + f(x[j]) - y[j])\n",
    "    return b, beta"
   ]
  },
  {
   "cell_type": "markdown",
   "metadata": {},
   "source": [
    "--------------------\n",
    "# Task 2.2\n",
    "We create exponentialy distributed test data."
   ]
  },
  {
   "cell_type": "code",
   "execution_count": 6,
   "metadata": {},
   "outputs": [],
   "source": [
    "def create_test_data(d = 2, n = 40, lambda_1 = 4, lambda_2 = 0.5, lable_1 = -1, lable_2 = 1):\n",
    "    x_group_1 = np.random.exponential(1/lambda_1, (int)(n/2 * d)).reshape(((int)(n/2), d))\n",
    "    x_group_2 = np.random.exponential(1/lambda_2, (int)(n/2 * d)).reshape(((int)(n/2), d))\n",
    "    x = np.vstack((x_group_1, x_group_2))\n",
    "    y = np.hstack((np.full((int)(n/2), lable_1), np.full((int)(n/2), lable_2)))\n",
    "    return x, y"
   ]
  },
  {
   "cell_type": "markdown",
   "metadata": {},
   "source": [
    "------------------------------------------\n",
    "# Task 2.3\n",
    "We calculate our SMO model with iteration. Initialize beta and b with 0 and work with one_step function."
   ]
  },
  {
   "cell_type": "code",
   "execution_count": 7,
   "metadata": {},
   "outputs": [],
   "source": [
    "def sequential_minimal_optimization(x, y, C, iterations = 10000):\n",
    "    \"\"\"optimize the classification with SMO. \n",
    "    Enter x_k values in x of shape (n, d), y values of shape (n). C>0 is the regularization.\"\"\"\n",
    "    ## task a\n",
    "    b = 0\n",
    "    beta = np.zeros(x.shape[0])\n",
    "    \n",
    "    for k in np.arange(0, iterations):\n",
    "        i = np.random.randint(0, x.shape[0])\n",
    "        j = np.random.randint(0, x.shape[0]-1)\n",
    "        if j>=i:\n",
    "            j += 1\n",
    "        b, beta = one_step(beta, y, x, b, i, j, C)\n",
    "        \n",
    "    ## task b\n",
    "    f = lambda xk: np.multiply(beta.T, y) @ (x @ xk.T) + b\n",
    "    med = np.median(np.subtract(f(x[beta>0]), y[beta>0]))\n",
    "    b -= med\n",
    "    \n",
    "    \n",
    "    f = lambda xk: np.multiply(beta.T, y) @ (x @ xk.T) + b\n",
    "    return f, beta"
   ]
  },
  {
   "cell_type": "code",
   "execution_count": 8,
   "metadata": {
    "scrolled": false
   },
   "outputs": [
    {
     "data": {
      "image/png": "[encoded data removed]",
      "text/plain": [
       "<Figure size 432x288 with 1 Axes>"
      ]
     },
     "metadata": {
      "needs_background": "light"
     },
     "output_type": "display_data"
    },
    {
     "data": {
      "image/png": "[encoded data removed]",
      "text/plain": [
       "<Figure size 432x288 with 1 Axes>"
      ]
     },
     "metadata": {
      "needs_background": "light"
     },
     "output_type": "display_data"
    },
    {
     "data": {
      "image/png": "[encoded data removed]",
      "text/plain": [
       "<Figure size 432x288 with 1 Axes>"
      ]
     },
     "metadata": {
      "needs_background": "light"
     },
     "output_type": "display_data"
    }
   ],
   "source": [
    "x, y = create_test_data()\n",
    "for C in (0.01, 1, 100):\n",
    "    f, beta = sequential_minimal_optimization(x, y, C)\n",
    "    plt.plot(x[:20,0], x[:20,1], 'bo')\n",
    "    plt.plot(x[20:,0], x[20:,1], 'ro')\n",
    "    plot_contour_line(f, 0, x)\n",
    "    plt.show()"
   ]
  },
  {
   "cell_type": "code",
   "execution_count": 9,
   "metadata": {},
   "outputs": [],
   "source": [
    "# task c + d\n",
    "def get_support_and_margin_defining_verctors(x, beta, C, n):\n",
    "        is_support_vector = beta>0\n",
    "        is_margin_defining_vector = np.logical_and(is_support_vector, C>beta)\n",
    "        return x[is_support_vector], x[is_margin_defining_vector]"
   ]
  },
  {
   "cell_type": "code",
   "execution_count": 10,
   "metadata": {
    "scrolled": false
   },
   "outputs": [
    {
     "name": "stdout",
     "output_type": "stream",
     "text": [
      "C: 0.01\n",
      "166 support vectors\n",
      "7 margin defining vectors\n"
     ]
    },
    {
     "data": {
      "image/png": "[encoded data removed]",
      "text/plain": [
       "<Figure size 432x288 with 1 Axes>"
      ]
     },
     "metadata": {
      "needs_background": "light"
     },
     "output_type": "display_data"
    },
    {
     "name": "stdout",
     "output_type": "stream",
     "text": [
      "C: 1\n",
      "69 support vectors\n",
      "17 margin defining vectors\n"
     ]
    },
    {
     "data": {
      "image/png": "[encoded data removed]",
      "text/plain": [
       "<Figure size 432x288 with 1 Axes>"
      ]
     },
     "metadata": {
      "needs_background": "light"
     },
     "output_type": "display_data"
    },
    {
     "name": "stdout",
     "output_type": "stream",
     "text": [
      "C: 100\n",
      "107 support vectors\n",
      "92 margin defining vectors\n"
     ]
    },
    {
     "data": {
      "image/png": "[encoded data removed]",
      "text/plain": [
       "<Figure size 432x288 with 1 Axes>"
      ]
     },
     "metadata": {
      "needs_background": "light"
     },
     "output_type": "display_data"
    }
   ],
   "source": [
    "x, y = create_test_data(n=300)\n",
    "\n",
    "for C in (0.01, 1, 100):\n",
    "    f, beta = sequential_minimal_optimization(x, y, C)\n",
    "    sup_vec, marg_vec = get_support_and_margin_defining_verctors(x, beta, C, 40)\n",
    "    print(\"C: \" + str(C))\n",
    "    print(str(sup_vec.shape[0]) + \" support vectors\")\n",
    "    print(str(marg_vec.shape[0]) + \" margin defining vectors\")\n",
    "    plt.plot(x[:20,0], x[:20,1], 'bo')\n",
    "    plt.plot(x[20:,0], x[20:,1], 'ro')\n",
    "    plt.plot(sup_vec[:,0], sup_vec[:,1], 'w+')\n",
    "    plt.plot(marg_vec[:,0], marg_vec[:,1], 'kx')\n",
    "    plot_contour_line(f, 0, x)\n",
    "    plt.show()"
   ]
  },
  {
   "cell_type": "markdown",
   "metadata": {},
   "source": [
    "--------------\n",
    "# Task 2.4\n",
    "We get the LLS and tha accuracy form the first sheet. Then we plot the accuracys of the LLS model vs the various SVM with different C."
   ]
  },
  {
   "cell_type": "code",
   "execution_count": 11,
   "metadata": {},
   "outputs": [],
   "source": [
    "# copies from sheet 1\n",
    "def generate_LLS_model(x,y):\n",
    "    \"\"\"x:(n,d); y:(n); output: (n)\"\"\"\n",
    "    \n",
    "    #reorganize the data in a matrix with the first row being (1,...,1)^T\n",
    "    X_hat = np.asmatrix(np.hstack((np.ones((x.shape[0],1)),x)))\n",
    "\n",
    "    #solve for the best alpha which mimimines ||X_hat * alpha - y||^2\n",
    "    alpha = np.linalg.solve(X_hat.T @ X_hat, X_hat.T @ np.asmatrix(y).T)\n",
    "    \n",
    "    #implements the linear function based on the previously generated alpha\n",
    "    f = lambda z: (alpha[0,0] + z @ alpha[1:]).flatten()\n",
    "    \n",
    "    return f\n"
   ]
  },
  {
   "cell_type": "code",
   "execution_count": 12,
   "metadata": {},
   "outputs": [],
   "source": [
    "\n",
    "def classification_accuracy(data,label, classes,f,value = 0):\n",
    "    \"\"\"Calculates the accuracy of a 2 classes classification funcion f. Data : (n,d), label: (n), classes 2-tuple\"\"\"\n",
    "        \n",
    "    is_class_0 = f(data) < value\n",
    "    is_class_1 = np.logical_not(is_class_0)\n",
    "        \n",
    "    \n",
    "    label_0 = label == classes[0]\n",
    "    label_1 = label == classes[1]\n",
    "    correct_class_0 = np.count_nonzero(np.logical_and(label_0, is_class_0))\n",
    "    correct_class_1 = np.count_nonzero(np.logical_and(label_1, is_class_1))\n",
    "    \n",
    "    \n",
    "    return (correct_class_0 + correct_class_1)/(data.shape[0])"
   ]
  },
  {
   "cell_type": "code",
   "execution_count": 13,
   "metadata": {},
   "outputs": [
    {
     "name": "stdout",
     "output_type": "stream",
     "text": [
      "--------------------------\n",
      "C: 0.01\n",
      "\n",
      "LLS model:\n",
      "accuracy: 0.8455\n",
      "SMO model:\n",
      "accuracy: 0.9115\n",
      "\n",
      "--------------------------\n",
      "C: 1\n",
      "\n",
      "LLS model:\n",
      "accuracy: 0.8455\n",
      "SMO model:\n",
      "accuracy: 0.913\n",
      "\n",
      "--------------------------\n",
      "C: 100\n",
      "\n",
      "LLS model:\n",
      "accuracy: 0.8455\n",
      "SMO model:\n",
      "accuracy: 0.9105\n",
      "\n"
     ]
    }
   ],
   "source": [
    "x, y = create_test_data(d = 2, n = 2000)\n",
    "f_LLS = generate_LLS_model(x,y)\n",
    "\n",
    "LLS_accuracy = classification_accuracy(x,y,(-1,1),f_LLS)\n",
    "\n",
    "for C in (0.01, 1, 100):\n",
    "    f_SMO, beta = sequential_minimal_optimization(x, y, C, iterations = 10000)\n",
    "    print(\"--------------------------\")\n",
    "    print(\"C: \" + str(C))\n",
    "    print()\n",
    "    \n",
    "    print(\"LLS model:\")\n",
    "    print(\"accuracy: \" + str(LLS_accuracy))\n",
    "    \n",
    "    print(\"SMO model:\")\n",
    "    print(\"accuracy: \" + str(classification_accuracy(x,y,(-1,1),f_SMO,value=0)))\n",
    "    print()\n",
    "    \n",
    "    \"\"\"argsForf = np.array([X.flatten(),Y.flatten()]).T\n",
    "    Z = func(argsForf)\n",
    "    Z = np.reshape(Z,X.shape)\n",
    "    \n",
    "    plt.xlim(minx, maxx)\n",
    "    plt.ylim(miny, maxy)\n",
    "    plt.xlabel(r'$x_1$')\n",
    "    plt.ylabel(r'$x_2$')\n",
    "    plt.contour(X, Y, Z, alpha=0.5,levels=[value],linestyles='dashed',linewidths=3)\n",
    "    Z = np.where(Z > value, 1, -1)\"\"\""
   ]
  },
  {
   "cell_type": "markdown",
   "metadata": {},
   "source": [
    "----------------\n",
    "# Task 2.6\n",
    "We create a uniform distribution as instructed in the exercise. Then we use the linear SVM to calssify, followed by the non linear SVM using $\\phi$"
   ]
  },
  {
   "cell_type": "code",
   "execution_count": 14,
   "metadata": {},
   "outputs": [],
   "source": [
    "# This is actually not a uniform distribution. We tend to have a lot of points around (0,0)^T.\n",
    "\n",
    "def generate_data_circle(n = 100, radius_1 = 1, radius_2 = 2, lable_1 = -1, lable_2 = 1):\n",
    "    alpha = np.random.uniform(0, 2 * np.pi, n)\n",
    "    \n",
    "    r1 = np.random.uniform(0, radius_1, (int)(n/2))\n",
    "    r2 = np.random.uniform(radius_1, radius_2, (int)(n/2))\n",
    "    \n",
    "    x_val1 = r1 * np.exp(alpha[: (int)(n/2)] * 1j)\n",
    "    x_val2 = r2 * np.exp(alpha[(int)(n/2):] * 1j)\n",
    "    \n",
    "    y = np.hstack((np.full((int)(n/2), lable_1), np.full((int)(n/2), lable_2)))\n",
    "\n",
    "    x = np.hstack((x_val1, x_val2))\n",
    "    x = np.hstack((x.real.reshape(100, 1), x.imag.reshape(100, 1)))\n",
    "    \n",
    "    return x, y\n",
    "\n"
   ]
  },
  {
   "cell_type": "code",
   "execution_count": 15,
   "metadata": {},
   "outputs": [],
   "source": [
    "def plot_generated_data(x):\n",
    "    plt.plot(x[:len(x)//2,0], x[:len(x)//2,1], 'bo')\n",
    "    plt.plot(x[len(x)//2:,0], x[len(x)//2:,1], 'ro')\n",
    "    #return x, y"
   ]
  },
  {
   "cell_type": "code",
   "execution_count": 16,
   "metadata": {},
   "outputs": [
    {
     "data": {
      "image/png": "[encoded data removed]",
      "text/plain": [
       "<Figure size 432x288 with 1 Axes>"
      ]
     },
     "metadata": {
      "needs_background": "light"
     },
     "output_type": "display_data"
    }
   ],
   "source": [
    "\n",
    "def generate_data_uniform(n=100,d=2, r1=1,r2=2,label_0=-1,label_1=1):\n",
    "    R = max(r1,r2)\n",
    "    r = min(r1,r2)\n",
    "    data_1 = np.random.uniform(-r,r,(n//2,d))\n",
    "    for i in range(len(data_1)):\n",
    "        while np.dot(data_1[i],data_1[i])>r**2:\n",
    "            #print(\"t\")\n",
    "            data_1[i] = np.random.uniform(-r,r, 2)\n",
    "    \n",
    "    data_2 = np.random.uniform(-R,R,(n-(n//2),d))\n",
    "    for i in range(len(data_2)):\n",
    "        while np.dot(data_2[i],data_2[i])<r**2 or np.dot(data_2[i],data_2[i])>R**2:\n",
    "            #print(\"t\")\n",
    "            data_2[i] = np.random.uniform(-R,R, 2)\n",
    "    return np.vstack((data_1,data_2))\n",
    "            \n",
    "x = generate_data_uniform(1000,2)\n",
    "plot_generated_data(x)\n",
    "plt.show()"
   ]
  },
  {
   "cell_type": "code",
   "execution_count": 21,
   "metadata": {},
   "outputs": [
    {
     "data": {
      "text/plain": [
       "[<matplotlib.lines.Line2D at 0x7f9e19a236a0>]"
      ]
     },
     "execution_count": 21,
     "metadata": {},
     "output_type": "execute_result"
    },
    {
     "data": {
      "image/png": "[encoded data removed]",
      "text/plain": [
       "<Figure size 432x288 with 1 Axes>"
      ]
     },
     "metadata": {
      "needs_background": "light"
     },
     "output_type": "display_data"
    }
   ],
   "source": [
    "x = generate_data_uniform()\n",
    "n = 100\n",
    "y = np.hstack((np.full(n//2, -1), np.full(n//2, 1)))\n",
    "#print(x.shape)\n",
    "\n",
    "plot_generated_data(x)\n",
    "lin = np.linspace(0,2*np.pi, 40)\n",
    "sphere = np.exp(lin*1j)\n",
    "plt.plot(sphere.real, sphere.imag)"
   ]
  },
  {
   "cell_type": "markdown",
   "metadata": {},
   "source": [
    "Here we  plot the linear SVM"
   ]
  },
  {
   "cell_type": "code",
   "execution_count": 23,
   "metadata": {
    "scrolled": false
   },
   "outputs": [
    {
     "data": {
      "image/png": "[encoded data removed]",
      "text/plain": [
       "<Figure size 432x288 with 1 Axes>"
      ]
     },
     "metadata": {
      "needs_background": "light"
     },
     "output_type": "display_data"
    }
   ],
   "source": [
    "# task a\n",
    "\n",
    "plot_generated_data(x)\n",
    "f_1, beta = sequential_minimal_optimization(x, y, C = 10, iterations = 10000)\n",
    "plot_contour_line(f_1, 0, x)"
   ]
  },
  {
   "cell_type": "code",
   "execution_count": 24,
   "metadata": {},
   "outputs": [],
   "source": [
    "# task b\n",
    "def phi(x):\n",
    "    x0 = x[:,0].reshape(x.shape[0], 1)\n",
    "    x1 = x[:,1].reshape(x.shape[0], 1)\n",
    "    x2 = (np.add( np.square(x[:,0]) , np.square(x[:,1])) ).reshape(x.shape[0], 1)\n",
    "    return np.hstack((x0,x1,x2))"
   ]
  },
  {
   "cell_type": "code",
   "execution_count": 25,
   "metadata": {
    "scrolled": false
   },
   "outputs": [
    {
     "data": {
      "image/png": "[encoded data removed]",
      "text/plain": [
       "<Figure size 432x288 with 1 Axes>"
      ]
     },
     "metadata": {
      "needs_background": "light"
     },
     "output_type": "display_data"
    }
   ],
   "source": [
    "\n",
    "plot_generated_data(x)\n",
    "x_phi = phi(x)\n",
    "\n",
    "f_phi, beta = sequential_minimal_optimization(x_phi, y, C = 10, iterations = 10000)\n",
    "plot_contour_line(lambda z: f_phi(phi(z)), 0, x)"
   ]
  },
  {
   "cell_type": "markdown",
   "metadata": {},
   "source": [
    "---------------------------\n",
    "# Task 2.7\n",
    "\n",
    "We repeat the earlier steps with a kernel as new scalar product."
   ]
  },
  {
   "cell_type": "code",
   "execution_count": 26,
   "metadata": {},
   "outputs": [],
   "source": [
    "def one_step_kernel(beta, y, x, b, i, j, C, kernel):\n",
    "    \"\"\"beta: (n); y: (n); x: (n, d); b, n, i, j, C scalar\"\"\"\n",
    "    #beta_old = np.zeros(0, n)\n",
    "    #beta_old[j] = beta[j]\n",
    "    #beta_old[i] = beta[i]\n",
    "    \n",
    "    f = lambda xk: np.multiply(beta, y) @ kernel(x, xk) + b\n",
    "    delta = y[i]*((f(x[j])-y[j]) - (f(x[i])-y[i]))\n",
    "    s = y[i] * y[j]\n",
    "    \n",
    "    #print (x[i].shape)\n",
    "    \n",
    "    chi = kernel(x[i], x[i]) + kernel(x[j], x[j]) - 2 * kernel(x[i], x[j])\n",
    "    gamma = s*beta[i] + beta[j]\n",
    "    if s==1:\n",
    "        if gamma - C > 0:\n",
    "            L = gamma - C\n",
    "            H = C\n",
    "        else:\n",
    "            L = 0\n",
    "            H = gamma\n",
    "    else:\n",
    "        if gamma > 0:\n",
    "            L = 0\n",
    "            H = C - gamma\n",
    "        else:\n",
    "            L = -gamma\n",
    "            H = C\n",
    "    if chi > 0:\n",
    "        if beta[i] + delta / chi > L:\n",
    "            if beta[i] + delta / chi > H:\n",
    "                beta[i] = H\n",
    "            else:\n",
    "                beta[i] = beta[i] + delta / chi\n",
    "        else:\n",
    "            if L > H:\n",
    "                beta[i] = H\n",
    "            else:\n",
    "                beta[i] = L\n",
    "    elif delta > 0:\n",
    "        beta[i] = L\n",
    "    else:\n",
    "        beta[i] = H\n",
    "    beta[j] = gamma - s*beta[i]\n",
    "    f = lambda xk: np.multiply(beta, y) @ kernel(x, xk) + b\n",
    "    b = b - 1/2*(f(x[i]) - y[i] + f(x[j]) - y[j])\n",
    "    return b, beta\n"
   ]
  },
  {
   "cell_type": "code",
   "execution_count": 27,
   "metadata": {},
   "outputs": [],
   "source": [
    "def generate_SMO_kernel(x, y, C, kernel, iterations = 10000):\n",
    "    \"\"\"optimize the classification with SMO. \n",
    "    Enter x_k values in x of shape (n, d), y values of shape (n). C>0 is the regularization.\"\"\"\n",
    "    ## task a\n",
    "    b = 0\n",
    "    beta = np.zeros(x.shape[0])\n",
    "    \n",
    "    for k in np.arange(0, iterations):\n",
    "        i = np.random.randint(0, x.shape[0])\n",
    "        j = np.random.randint(0, x.shape[0]-1)\n",
    "        if j>=i:\n",
    "            j += 1\n",
    "        b, beta = one_step_kernel(beta, y, x, b, i, j, C, kernel)\n",
    "        \n",
    "    ## task b\n",
    "    f = lambda xk: np.multiply(beta, y) @ kernel(x, xk) + b\n",
    "    \n",
    "    med = np.median(np.subtract(f(x[beta>0]), y[beta>0]))\n",
    "    #med = np.median(np.subtract(np.apply_along_axis(f, 1, x[beta>0]), y[beta>0]))\n",
    "    \n",
    "    b = b-med\n",
    "    f = lambda xk: np.multiply(beta, y) @ kernel(x, xk) + b\n",
    "    return f, beta"
   ]
  },
  {
   "cell_type": "markdown",
   "metadata": {},
   "source": [
    "We define the gaussian kernel and apply it to our uniform data."
   ]
  },
  {
   "cell_type": "code",
   "execution_count": 28,
   "metadata": {},
   "outputs": [],
   "source": [
    "def gaussian_kernel(x,y,sigma = 1):\n",
    "    \"\"\"Calculates the gaussian kernel of x,y with sigma. \n",
    "    If x,y are (d) returns scalar.\n",
    "    If x: (n,d) and y: (m,d) returns (n x m)-array with all kernel products\n",
    "    \"\"\"\n",
    "    #print(type(y))\n",
    "    \n",
    "    if x.ndim == 1 and y.ndim == 1:\n",
    "        return np.exp((-.5) * np.square(distance.euclidean(x,y)/sigma) )\n",
    "    \n",
    "    #reshape if dimensions do not fit\n",
    "    if y.ndim == 1:\n",
    "        y = y.reshape((1,2))\n",
    "    elif x.ndim == 1:\n",
    "        x = x.reshape((1,2))\n",
    "\n",
    "    dists_squared = np.square( distance.cdist(x,y) / sigma )\n",
    "    \n",
    "    return np.exp((-.5) * dists_squared)"
   ]
  },
  {
   "cell_type": "code",
   "execution_count": 29,
   "metadata": {
    "scrolled": false
   },
   "outputs": [
    {
     "data": {
      "image/png": "[encoded data removed]",
      "text/plain": [
       "<Figure size 432x288 with 1 Axes>"
      ]
     },
     "metadata": {
      "needs_background": "light"
     },
     "output_type": "display_data"
    }
   ],
   "source": [
    "x, y = generate_data_circle()\n",
    "C = 10\n",
    "\n",
    "plot_generated_data(x)\n",
    "\n",
    "f_SMO_kernel, beta = generate_SMO_kernel(x, y, C, lambda x,y: gaussian_kernel(x,y, sigma=1),iterations = 10000)\n",
    "plt.plot(x[beta>0,0],x[beta>0,1], 'kx')\n",
    "plt.plot(x[np.logical_and(beta>0,beta<C),0],x[np.logical_and(beta>0,beta<C),1], 'w+')\n",
    "\n",
    "plot_contour_line(f_SMO_kernel, 0, x)"
   ]
  },
  {
   "cell_type": "markdown",
   "metadata": {},
   "source": [
    "---------------------------\n",
    " # Task 2.8\n",
    " \n",
    " Unfortunately we did not finish task 2.8 in time. We had not enough time."
   ]
  },
  {
   "cell_type": "code",
   "execution_count": 49,
   "metadata": {},
   "outputs": [
    {
     "name": "stderr",
     "output_type": "stream",
     "text": [
      "/home/espen/.local/lib/python3.6/site-packages/numpy/core/fromnumeric.py:2920: RuntimeWarning: Mean of empty slice.\n",
      "  out=out, **kwargs)\n",
      "/home/espen/.local/lib/python3.6/site-packages/numpy/core/_methods.py:85: RuntimeWarning: invalid value encountered in double_scalars\n",
      "  ret = ret.dtype.type(ret / rcount)\n",
      "/home/espen/.local/lib/python3.6/site-packages/ipykernel_launcher.py:5: RuntimeWarning: invalid value encountered in less\n",
      "  \"\"\"\n"
     ]
    },
    {
     "name": "stdout",
     "output_type": "stream",
     "text": [
      "sigma:1 C:1 Accuracy:0.5\n",
      "sigma:1 C:10 Accuracy:0.9099999999999999\n",
      "sigma:10 C:1 Accuracy:0.5\n",
      "sigma:10 C:10 Accuracy:0.41000000000000003\n"
     ]
    }
   ],
   "source": [
    "def k_cross_validation (k,x,y,sig_vals,C_vals):\n",
    "    if k == 0: return None\n",
    "    \n",
    "    D_indices = np.array([(i%k) for i in np.arange(len(x))])\n",
    "    np.random.shuffle(D_indices)\n",
    "    \n",
    "    A = np.zeros((len(sig_vals),len(C_vals)))\n",
    "    for sig in range(len(sig_vals)):\n",
    "        kernel = lambda x,t: gaussian_kernel(x,t, sigma=sig_vals[sig])\n",
    "        for C in range(len(C_vals)):\n",
    "            for i in range(k):\n",
    "                f, beta = generate_SMO_kernel(x[D_indices!=i], y[D_indices!=i], C, kernel,iterations = 1000)\n",
    "                A[sig,C] += classification_accuracy(x[D_indices==i],y[D_indices==i], (-1,1),f,value = 0)\n",
    "            A[sig,C] /= k\n",
    "            print(\"sigma:\"+str(sig_vals[sig])+\" C:\"+str(C_vals[C])+\" Accuracy:\"+str(A[sig,C]))\n",
    "    return\n",
    "k_cross_validation(4,x,y,(1,10),(1,10))"
   ]
  },
  {
   "cell_type": "code",
   "execution_count": 48,
   "metadata": {},
   "outputs": [],
   "source": [
    "#Load MNIST Data\n",
    "import os\n",
    "import gzip\n",
    "from urllib.request import urlretrieve\n",
    "\n",
    "from sklearn.svm import SVC\n",
    "from sklearn.model_selection import GridSearchCV\n",
    "from sklearn.metrics import confusion_matrix, accuracy_score\n",
    "\n",
    "def download(filename , source='http://yann.lecun.com/exdb/mnist/'):\n",
    "    print(\"Downloading %s\" % filename)\n",
    "    urlretrieve(source + filename , filename)\n",
    "    \n",
    "def load_mnist_images(filename):\n",
    "    if not os.path.exists(filename):\n",
    "        download(filename)\n",
    "    with gzip.open(filename, 'rb') as f:\n",
    "        data = np.frombuffer(f.read(), np.uint8, offset=16)\n",
    "    data = data.reshape(-1, 28, 28)\n",
    "    return data / np.float32(256)\n",
    "\n",
    "def load_mnist_labels(filename):\n",
    "    if not os.path.exists(filename):\n",
    "        download(filename)\n",
    "    with gzip.open(filename, 'rb') as f:\n",
    "        data = np.frombuffer(f.read(), np.uint8, offset=8)\n",
    "    return data\n",
    "X_train = load_mnist_images('train-images-idx3-ubyte.gz')\n",
    "y_train = load_mnist_labels('train-labels-idx1-ubyte.gz')\n",
    "X_test = load_mnist_images('t10k-images-idx3-ubyte.gz')\n",
    "y_test = load_mnist_labels('t10k-labels-idx1-ubyte.gz')"
   ]
  },
  {
   "cell_type": "code",
   "execution_count": 41,
   "metadata": {},
   "outputs": [
    {
     "name": "stderr",
     "output_type": "stream",
     "text": [
      "/home/espen/.local/lib/python3.6/site-packages/sklearn/model_selection/_search.py:841: DeprecationWarning: The default of the `iid` parameter will change from True to False in version 0.22 and will be removed in 0.24. This will change numeric results when test-set sizes are unequal.\n",
      "  DeprecationWarning)\n"
     ]
    },
    {
     "data": {
      "text/plain": [
       "GridSearchCV(cv=5, error_score='raise-deprecating',\n",
       "       estimator=SVC(C=1.0, cache_size=200, class_weight=None, coef0=0.0,\n",
       "  decision_function_shape='ovr', degree=3, gamma='auto', kernel='rbf',\n",
       "  max_iter=-1, probability=False, random_state=None, shrinking=True,\n",
       "  tol=0.001, verbose=False),\n",
       "       fit_params=None, iid='warn', n_jobs=None,\n",
       "       param_grid={'C': [1, 10, 100], 'gamma': [0.1, 0.01, 0.001], 'kernel': ['rbf']},\n",
       "       pre_dispatch='2*n_jobs', refit=True, return_train_score=True,\n",
       "       scoring=None, verbose=0)"
      ]
     },
     "execution_count": 41,
     "metadata": {},
     "output_type": "execute_result"
    }
   ],
   "source": [
    "choice = (np.array([True]*500 + [False]*(len(X_train)-500)))\n",
    "np.random.shuffle(choice)\n",
    "#print(choice)\n",
    "\n",
    "X_500 = (X_train[choice]).reshape(500,28**2)\n",
    "y_500 = (y_train[choice]).reshape(500)\n",
    "#print(X_500)\n",
    "\n",
    "\n",
    "params = {'C': [1,10,100], 'gamma': [0.1,0.01,0.001], 'kernel': ['rbf']}\n",
    "\n",
    "svc = SVC(gamma = 'auto')\n",
    "clf = GridSearchCV(svc,params, cv = 5 , return_train_score=True)\n",
    "clf.fit(X_500,y_500)\n",
    "\n"
   ]
  },
  {
   "cell_type": "code",
   "execution_count": 50,
   "metadata": {},
   "outputs": [
    {
     "name": "stdout",
     "output_type": "stream",
     "text": [
      "{'C': 10, 'gamma': 0.01, 'kernel': 'rbf'}\n",
      "[[ 962    0    3    3    1    6    4    1    0    0]\n",
      " [   0 1122    3    2    1    2    4    0    1    0]\n",
      " [  15    1  954   15    3    2   14    8   15    5]\n",
      " [   3    1   18  953    0   13    2    8   11    1]\n",
      " [   2    3    7    1  899    1    6    2    2   59]\n",
      " [   9    3    5   32    9  809   12    1    9    3]\n",
      " [  11    2    4    2    8   11  918    0    2    0]\n",
      " [   1   14   23    7    6    1    0  956    3   17]\n",
      " [   6    6   11   22   10   18    8    6  880    7]\n",
      " [  11    5    1    7   18    8    1   14    3  941]]\n",
      "0.9394\n"
     ]
    }
   ],
   "source": [
    "choice = (np.array([True]*2000 + [False]*(len(X_train)-2000)))\n",
    "np.random.shuffle(choice)\n",
    "#print(choice)\n",
    "\n",
    "X_2000 = (X_train[choice]).reshape(2000,28**2)\n",
    "y_2000 = (y_train[choice]).reshape(2000)\n",
    "\n",
    "\n",
    "\n",
    "p = clf.best_params_\n",
    "print(p)\n",
    "\n",
    "svc_2000 = SVC(gamma = p['gamma'], C = p['C'], kernel = p['kernel'])\n",
    "svc_2000.fit(X_2000,y_2000)\n",
    "y_pred = svc_2000.predict(X_test.reshape(X_test.shape[0],28**2))\n",
    "print(confusion_matrix(y_test, y_pred))\n",
    "print(accuracy_score(y_test, y_pred))\n",
    "\n"
   ]
  },
  {
   "cell_type": "markdown",
   "metadata": {},
   "source": [
    "Since we want to find generalising features in the data we do want to change our underlying dataset frequently. We assume to have generalised the parameters with the k-fold validation, so we should be confident that these parameters will work on every data alike. However, it could have happend that we did the k-cross on a special dataset, which happens to behave differnently from the rest of the data. In that case our parameters would not have generalised at all, and we would see a significantly lower accuracy than expected, because we overfitted the training data."
   ]
  },
  {
   "cell_type": "code",
   "execution_count": null,
   "metadata": {},
   "outputs": [],
   "source": []
  }
 ],
 "metadata": {
  "kernelspec": {
   "display_name": "Python 3",
   "language": "python",
   "name": "python3"
  },
  "language_info": {
   "codemirror_mode": {
    "name": "ipython",
    "version": 3
   },
   "file_extension": ".py",
   "mimetype": "text/x-python",
   "name": "python",
   "nbconvert_exporter": "python",
   "pygments_lexer": "ipython3",
   "version": "3.6.6"
  }
 },
 "nbformat": 4,
 "nbformat_minor": 2
}
