{
 "cells": [
  {
   "cell_type": "markdown",
   "metadata": {},
   "source": [
    "# Neural Networks"
   ]
  },
  {
   "cell_type": "markdown",
   "metadata": {},
   "source": [
    "#### Some imports:"
   ]
  },
  {
   "cell_type": "code",
   "execution_count": 1,
   "metadata": {},
   "outputs": [],
   "source": [
    "import numpy as np\n",
    "import matplotlib.pyplot as plt"
   ]
  },
  {
   "cell_type": "markdown",
   "metadata": {},
   "source": [
    "#### Plotting: "
   ]
  },
  {
   "cell_type": "code",
   "execution_count": 2,
   "metadata": {},
   "outputs": [],
   "source": [
    "#This function plots the contourline func(x) = value\n",
    "def plot_contour_line(func, value=0, x_values=np.empty(0)):\n",
    "    \n",
    "    minx = -1\n",
    "    maxx = 2\n",
    "    miny = -1\n",
    "    maxy = 2\n",
    "    \n",
    "    #print(np.array(x_values.shape))\n",
    "    if (np.array(x_values.shape)[1] ==2):\n",
    "        x_values = x_values.T\n",
    "    \n",
    "    # sets minx, etc. if x_values is a two-dimensoinal array of values\n",
    "    if np.array(x_values.shape).shape[0] > 1:\n",
    "        dim = np.array(x_values.shape)[0]\n",
    "        if dim==2:\n",
    "            minx = ((int)(np.amin(x_values[0])))-1.5\n",
    "            maxx = ((int)(np.amax(x_values[0])))+1.5\n",
    "            miny = ((int)(np.amin(x_values[1])))-1.5\n",
    "            maxy = ((int)(np.amax(x_values[1])))+1.5\n",
    "    samplenum = 100\n",
    "    xrange = np.arange(minx, maxx, (maxx-minx)/samplenum)\n",
    "    yrange = np.arange(miny, maxy, (maxy-miny)/samplenum)\n",
    "    \n",
    "    #This generates a two-dimensional mesh\n",
    "    X, Y = np.meshgrid(xrange,yrange)\n",
    "    # print(X,Y)\n",
    "    \n",
    "    argsForf = np.array([X.flatten(),Y.flatten()]).T\n",
    "    Z = func(argsForf)\n",
    "    Z = np.reshape(Z,X.shape)\n",
    "    \n",
    "    plt.xlim(minx, maxx)\n",
    "    plt.ylim(miny, maxy)\n",
    "    plt.xlabel(r'$x_1$')\n",
    "    plt.ylabel(r'$x_2$')\n",
    "    plt.contour(X, Y, Z, alpha=0.5,levels=[value],linestyles='dashed',linewidths=3)\n",
    "    Z = np.where(Z > value, 1, -1)\n",
    "    plt.contourf(X, Y, Z, alpha=0.2, cmap=plt.cm.coolwarm)\n"
   ]
  },
  {
   "cell_type": "markdown",
   "metadata": {},
   "source": [
    "Some code illustrating the numpy linear algebra operations I'm using:"
   ]
  },
  {
   "cell_type": "code",
   "execution_count": 3,
   "metadata": {},
   "outputs": [
    {
     "name": "stdout",
     "output_type": "stream",
     "text": [
      "[14 32 50]\n",
      "tensordot:\n",
      "[[14 32 50]\n",
      " [14 32 50]\n",
      " [14 32 50]\n",
      " [14 32 50]\n",
      " [14 32 50]\n",
      " [14 32 50]]\n",
      "einsum:\n",
      "[[[1 1 1]\n",
      "  [2 2 2]\n",
      "  [3 3 3]]\n",
      "\n",
      " [[3 3 3]\n",
      "  [6 6 6]\n",
      "  [9 9 9]]]\n",
      "sum:\n",
      "[[ 4  8 12]\n",
      " [16 20 24]\n",
      " [28 32 36]]\n"
     ]
    }
   ],
   "source": [
    "A = np.array([[1,2,3],[4,5,6],[7,8,9]])\n",
    "b = np.array([[1,2,3],[1,2,3],[1,2,3],[1,2,3],[1,2,3],[1,2,3]])\n",
    "c1 = np.array([[1,2,3],[1,2,3]])\n",
    "c2 = np.array([[1,1,1],[3,3,3]])\n",
    "M = np.array([[[1,2,3],[4,5,6],[7,8,9]], [[1,2,3],[4,5,6],[7,8,9]], [[1,2,3],[4,5,6],[7,8,9]], [[1,2,3],[4,5,6],[7,8,9]]])\n",
    "\n",
    "print(A@b[0])\n",
    "print(\"tensordot:\")\n",
    "print(np.tensordot(A, b, axes=[1,1]).T)\n",
    "print(\"einsum:\")\n",
    "print(np.einsum('ij,ik->ijk',c1,c2))\n",
    "print(\"sum:\")\n",
    "print(np.sum(M, axis=0))\n"
   ]
  },
  {
   "cell_type": "markdown",
   "metadata": {},
   "source": [
    "#### Some activation functions and their derivatives:"
   ]
  },
  {
   "cell_type": "code",
   "execution_count": 4,
   "metadata": {},
   "outputs": [],
   "source": [
    "# rectified linear unit: this seems to be the fastest implementation using numpy's clip method\n",
    "def ReLU(x): return np.clip(x,0,None)\n",
    "\n",
    "# the (weak) derivative of ReLU, again using numpy\n",
    "def Heaviside(x): return np.heaviside(x,0)\n",
    "\n",
    "# unnecessary function call, for the sake of compactness/readability\n",
    "def Id(x): return x\n",
    "\n",
    "# makes vectorization possible, again using numpy's clip method\n",
    "def One(x): return np.clip(x,1,1)"
   ]
  },
  {
   "cell_type": "markdown",
   "metadata": {},
   "source": [
    "### A (multy-layer, feed-forward) neural network class:"
   ]
  },
  {
   "cell_type": "code",
   "execution_count": 7,
   "metadata": {},
   "outputs": [],
   "source": [
    "class NN:\n",
    "    \n",
    "    # Initialize neural network of depth L=2: each layer i=0..L consists\n",
    "    # of d[i] nodes ......\n",
    "    def __init__(self, d, L=2, phi=[ReLU,Id], dphi=[Heaviside,One]):\n",
    "        # check wether L, d, phi, Dphi are all compatible\n",
    "        assert len(d) == L+1, \"len(d) != L+1\"\n",
    "        assert len(phi) == L, \"len(phi) != L\"\n",
    "        assert len(dphi) == L, \"len(dphi) != L\"\n",
    "        # set parameters\n",
    "        self.d   = d\n",
    "        self.L   = L\n",
    "        self.phi = phi\n",
    "        self.dphi = dphi\n",
    "        # initialize weights\n",
    "        self.W = [np.random.uniform(-1, 1, (d[l],d[l+1])) for l in range(L)]\n",
    "        # initialize biases\n",
    "        self.b = [np.random.uniform(-1, 1, d[l+1]) for l in range(L)]\n",
    "    \n",
    "    \n",
    "    # forward propagation 1: evaluates NN at array of points x  \n",
    "    def f(self, x):\n",
    "        # initialize with the input layer\n",
    "        net = x\n",
    "        # the actual forward propagation using np.tensordot\n",
    "        for l in range(self.L):\n",
    "            net = np.tensordot(self.W[l].T, self.phi[l](net), axes=[1,1]).T + self.b[l]\n",
    "        return net\n",
    "    \n",
    "    \n",
    "    # forward propagation 2: calculates all net sums \n",
    "    def ffwd(self, x):\n",
    "        # initialize: there will be L net sums in total, plus net[0]=x\n",
    "        net = [x]*(self.L+1)\n",
    "        net_ = x\n",
    "        # the actual forward propagation using np.tensordot\n",
    "        for l in range(self.L):\n",
    "            net_ = np.tensordot(self.W[l].T, self.phi[l](net_), axes=[1,1]).T + self.b[l]\n",
    "            net[l+1] = net_\n",
    "        return net\n",
    "    \n",
    "    \n",
    "    # back propagation: computes gradient of the least squares loss\n",
    "    # C(f)=1/n*sum((f(x)-y)**2) with respect to W and b.\n",
    "    def bprop(self, x, y): \n",
    "        # check wether x and y have compatible shapes\n",
    "        assert x.shape[0] == y.shape[0], \"x.shape[0] != y.shape[0]\"\n",
    "        # size of the batch\n",
    "        n = x.shape[0]\n",
    "        # initialize variables\n",
    "        delta, dphi_net = 0, 0\n",
    "        gradW, gradb = [None]*self.L, [None]*self.L\n",
    "        net = self.ffwd(x)\n",
    "        # the actual backpropagation \n",
    "        for l in range(self.L-1,-1,-1):\n",
    "            \n",
    "            #print(\"backpropagation: l =\",l,\":\")\n",
    "            #print(\"shape of y:\", y.shape)\n",
    "            #print(\"shape of f(x):\", self.f(x).shape)\n",
    "            \n",
    "            if l == self.L-1: delta = 2*(self.f(x)-y)\n",
    "            else: delta = np.tensordot(self.W[l+1], gradb[l+1], axes=[1,1]).T  \n",
    "                \n",
    "            #print(\"shape of delta:\", delta.shape)\n",
    "            \n",
    "            dphi_net = self.dphi[l](net[l+1])\n",
    "            \n",
    "            #print(\"shape of dphinet:\", dphi_net.shape)\n",
    "            #print(\"shape of self.phi[l](net[l+1]):\", self.phi[l](net[l+1]).shape)\n",
    "            \n",
    "            gradb[l] = delta*dphi_net\n",
    "            \n",
    "            # using einsum to calculate element-wise dyadic product\n",
    "            gradW[l] = np.einsum('ij,ik->ijk', self.phi[l](net[l]), gradb[l]) \n",
    "            \n",
    "            #print(\"shape of gradW:\", gradW[l].shape, \"\\nshape of gradb:\", gradb[l].shape)\n",
    "            #print(\"shape of W:\", self.W[l].shape, \"\\nshape of b:\", self.b[l].shape)\n",
    "            \n",
    "        # sum and average the results\n",
    "        for l in range(self.L):\n",
    "            \n",
    "            #print(\"summation and average: l =\",l,\":\")\n",
    "            \n",
    "            gradW[l] = np.sum(gradW[l], axis=0)/n \n",
    "            gradb[l] = np.sum(gradb[l], axis=0)/n\n",
    "            \n",
    "            #print(\"shape of gradW:\", gradW[l].shape)\n",
    "            #print(\"shape of gradb:\", gradb[l].shape)\n",
    "            \n",
    "        return gradW, gradb\n",
    "    \n",
    "    \n",
    "    # Stochastic minibatch gradient descent: minimizes least squares loss.\n",
    "    # D is the data set, 'nu' is the learning rate, K the size of the minibatch,\n",
    "    # and S is the number of steps.\n",
    "    def SGD(self, x, y, nu, K=10, S=500, output=False):\n",
    "        for s in range(S):\n",
    "            \n",
    "            #print(\"s =\",s)\n",
    "\n",
    "            n = x.shape[0]\n",
    "            B = np.random.choice(n, K, replace=False)\n",
    "            gradW, gradb = self.bprop(x[B,], y[B,])\n",
    "            \n",
    "            for l in range(self.L):\n",
    "                \n",
    "                #print(\"SGD: l =\",l)\n",
    "                #print(\"gradW[\",l,\"]:\")\n",
    "                #print(gradW[l].shape)\n",
    "                #print(\"W[\",l,\"]:\")\n",
    "                #print(self.W[l].shape)\n",
    "                #print(\"gradb[\",l,\"]:\")\n",
    "                #print(gradb[l].shape)\n",
    "                #print(\"b[\",l,\"]:\")\n",
    "                #print(self.b[l].shape)\n",
    "                \n",
    "                self.W[l] = self.W[l]-nu*gradW[l]\n",
    "                self.b[l] = self.b[l]-nu*gradb[l]\n",
    "            if output == True and not s%int(S/10):\n",
    "                print(\"s =\",s)\n",
    "                print(\"squares error:\", np.sum((self.f(x)-y)**2))\n",
    "                print(\"norm of gradient (W):\", np.sum(gradW[0]**2),np.sum(gradW[1]**2))\n",
    "                print(\"norm of gradient (b):\", np.sum(gradb[0]**2),np.sum(gradb[1]**2))\n",
    "    "
   ]
  },
  {
   "cell_type": "markdown",
   "metadata": {},
   "source": [
    "#### Generate random data to test the NN class:"
   ]
  },
  {
   "cell_type": "code",
   "execution_count": 8,
   "metadata": {},
   "outputs": [
    {
     "data": {
      "image/png": "[encoded data removed]",
      "text/plain": [
       "<matplotlib.figure.Figure at 0x11cfb85c0>"
      ]
     },
     "metadata": {},
     "output_type": "display_data"
    }
   ],
   "source": [
    "N = 250 # half of number of data points\n",
    "\n",
    "# test data: uniform distribution on the unit circle\n",
    "x1 = np.sqrt(np.random.rand(N))*np.exp(np.random.rand(N)*2j*np.pi)\n",
    "\n",
    "# convert complex to 2d array \n",
    "x1 = np.stack((x1.real,x1.imag),-1)\n",
    "\n",
    "# the same for 1≤|x|≤2\n",
    "x2 = np.sqrt(np.random.uniform(1,4,N))*np.exp(np.random.rand(N)*2j*np.pi)\n",
    "x2 = np.stack((x2.real,x2.imag),-1)\n",
    "\n",
    "# put the two together\n",
    "x = np.concatenate((x1,x2))\n",
    "\n",
    "# the first 250 data points labeled -1, the second half is labeled 1\n",
    "y = np.concatenate((np.full(N,-1),np.full(N,1)))\n",
    "\n",
    "# plot the data to see if it has the right distribiution\n",
    "x1plot = x[y<0].swapaxes(0,1)\n",
    "x2plot = x[y>0].swapaxes(0,1)\n",
    "fig, ax = plt.subplots()\n",
    "ax.scatter(x1plot[0], x1plot[1], s=10)\n",
    "ax.scatter(x2plot[0], x2plot[1], s=10)\n",
    "ax.axis('equal')\n",
    "plt.show()"
   ]
  },
  {
   "cell_type": "markdown",
   "metadata": {},
   "source": [
    "#### Now we create a two layer NN  with a hidden layer of 20 neurons:\n",
    "- The input values are from $\\mathbb{R}^2$ so there must be 2 input neurons.\n",
    "- The there are only two output classes, so there is only one neuron in the output layer. "
   ]
  },
  {
   "cell_type": "code",
   "execution_count": 19,
   "metadata": {},
   "outputs": [],
   "source": [
    "perceptron = NN([2,20,1])"
   ]
  },
  {
   "cell_type": "code",
   "execution_count": 18,
   "metadata": {},
   "outputs": [
    {
     "name": "stdout",
     "output_type": "stream",
     "text": [
      "s = 0\n",
      "squares error: 383.8854152515322\n",
      "norm of gradient (W): 0.01588616927249591 0.0006459428105985824\n",
      "norm of gradient (b): 0.002546704738516167 5.5402124496601067e-05\n",
      "s = 100\n",
      "squares error: 383.8850359295193\n",
      "norm of gradient (W): 0.01577858551110346 0.0006208103567037981\n",
      "norm of gradient (b): 0.0024814421449700585 5.025599579343047e-05\n",
      "s = 200\n",
      "squares error: 383.8833096857735\n",
      "norm of gradient (W): 0.01483699561384665 0.0005236687458116944\n",
      "norm of gradient (b): 0.0020795168100243245 3.677045800629942e-05\n",
      "s = 300\n",
      "squares error: 383.88195351944324\n",
      "norm of gradient (W): 0.014492376886853463 0.00043518733734251137\n",
      "norm of gradient (b): 0.002026595833541053 2.4102208772933278e-05\n",
      "s = 400\n",
      "squares error: 383.88191363784466\n",
      "norm of gradient (W): 0.014552937613129266 0.0004128092226913827\n",
      "norm of gradient (b): 0.0020587799343279945 1.914530398646203e-05\n",
      "s = 500\n",
      "squares error: 383.88206045985214\n",
      "norm of gradient (W): 0.014584247570883918 0.00040457301774860996\n",
      "norm of gradient (b): 0.0017341037208718772 1.6475438643122876e-05\n",
      "s = 600\n",
      "squares error: 383.8821322242717\n",
      "norm of gradient (W): 0.014360374252369855 0.0003957434731086319\n",
      "norm of gradient (b): 0.0016151709830415555 1.4305347957984755e-05\n",
      "s = 700\n",
      "squares error: 383.88189100822\n",
      "norm of gradient (W): 0.014513193134049876 0.00036996573531816344\n",
      "norm of gradient (b): 0.0015826766425565792 1.1105116476607986e-05\n",
      "s = 800\n",
      "squares error: 383.8831447871425\n",
      "norm of gradient (W): 0.015063897593404887 0.00044825168205430826\n",
      "norm of gradient (b): 0.0017263036106669864 1.9074524122327777e-05\n",
      "s = 900\n",
      "squares error: 383.8829283977112\n",
      "norm of gradient (W): 0.014866108350723547 0.0004473133727555044\n",
      "norm of gradient (b): 0.0018855764452168577 2.0476878392234256e-05\n"
     ]
    },
    {
     "data": {
      "image/png": "[encoded data removed]",
      "text/plain": [
       "<matplotlib.figure.Figure at 0x11f134630>"
      ]
     },
     "metadata": {},
     "output_type": "display_data"
    },
    {
     "name": "stdout",
     "output_type": "stream",
     "text": [
      "s = 0\n",
      "squares error: 383.8829168432566\n",
      "norm of gradient (W): 0.014913782399833271 0.00045399044806740103\n",
      "norm of gradient (b): 0.0020184274305046837 2.2285435537984602e-05\n",
      "s = 100\n",
      "squares error: 383.88290812248084\n",
      "norm of gradient (W): 0.01491370840588124 0.00045433676893605286\n",
      "norm of gradient (b): 0.00201882587153584 2.244853697011129e-05\n",
      "s = 200\n",
      "squares error: 383.8828886556623\n",
      "norm of gradient (W): 0.01487032070351196 0.00045406410841083766\n",
      "norm of gradient (b): 0.00198171106354085 2.2544098200770476e-05\n",
      "s = 300\n",
      "squares error: 383.8828648822107\n",
      "norm of gradient (W): 0.01487128370858492 0.00045352047220262353\n",
      "norm of gradient (b): 0.0019821020493069543 2.260235375558557e-05\n",
      "s = 400\n",
      "squares error: 383.88285971657297\n",
      "norm of gradient (W): 0.014924155347223775 0.00045395462333746965\n",
      "norm of gradient (b): 0.0020453470815057708 2.2753637677332017e-05\n",
      "s = 500\n",
      "squares error: 383.8828384554036\n",
      "norm of gradient (W): 0.014891194191362941 0.0004534703914153097\n",
      "norm of gradient (b): 0.0019198582615701887 2.2804496041406515e-05\n",
      "s = 600\n",
      "squares error: 383.8827375885289\n",
      "norm of gradient (W): 0.014680507419195191 0.0004483632760651397\n",
      "norm of gradient (b): 0.0019605838528565754 2.2334969379326264e-05\n",
      "s = 700\n",
      "squares error: 383.8825862907919\n",
      "norm of gradient (W): 0.01465376073521038 0.00044009804948449114\n",
      "norm of gradient (b): 0.0019147841845045534 2.1498663414475458e-05\n",
      "s = 800\n",
      "squares error: 383.8824605325732\n",
      "norm of gradient (W): 0.014658439872289512 0.00043311677266161415\n",
      "norm of gradient (b): 0.0019110327295158856 2.0786727020636463e-05\n",
      "s = 900\n",
      "squares error: 383.8823607534736\n",
      "norm of gradient (W): 0.014665385066062311 0.00042749616320747957\n",
      "norm of gradient (b): 0.0019113572538820085 2.02070124875851e-05\n"
     ]
    },
    {
     "data": {
      "image/png": "[encoded data removed]",
      "text/plain": [
       "<matplotlib.figure.Figure at 0x11f43f978>"
      ]
     },
     "metadata": {},
     "output_type": "display_data"
    }
   ],
   "source": [
    "for nu in [0.001,0.0001]:\n",
    "    perceptron.SGD(x, y.reshape(500,1), nu, K=500, S=1000, output=True)\n",
    "    \n",
    "    c = perceptron.f(x).reshape(500)\n",
    "    c1plot = x[c<0].swapaxes(0,1)\n",
    "    c2plot = x[c>0].swapaxes(0,1)\n",
    "    fig, ax = plt.subplots()\n",
    "    ax.scatter(c1plot[0], c1plot[1], s=10)\n",
    "    ax.scatter(c2plot[0], c2plot[1], s=10)\n",
    "    ax.axis('equal')\n",
    "    plt.show()"
   ]
  },
  {
   "cell_type": "code",
   "execution_count": 11,
   "metadata": {},
   "outputs": [
    {
     "data": {
      "text/plain": [
       "([array([[-7.85714533e-03, -9.71518922e-03,  1.46293749e-02,\n",
       "           0.00000000e+00,  0.00000000e+00,  2.37377223e-02,\n",
       "          -2.84250187e-03,  2.18905550e-04,  3.70193732e-04,\n",
       "          -9.50151668e-02,  1.87082041e-02,  2.18310610e-03,\n",
       "          -4.35326984e-03,  1.05249255e-02,  0.00000000e+00,\n",
       "          -5.36729772e-05,  0.00000000e+00, -3.21706583e-02,\n",
       "           0.00000000e+00,  7.96173829e-03],\n",
       "         [ 2.36373726e-02,  2.67785464e-03, -4.72742089e-03,\n",
       "           0.00000000e+00,  0.00000000e+00, -1.85234886e-03,\n",
       "           8.54791629e-05, -6.25293140e-06,  7.15362046e-04,\n",
       "          -1.86076018e-03, -9.80186198e-02,  2.72807921e-03,\n",
       "           3.44829504e-04, -2.90104700e-03,  0.00000000e+00,\n",
       "           1.66456253e-04,  0.00000000e+00,  3.93705839e-02,\n",
       "           0.00000000e+00,  1.23491645e-02]]), array([[ 0.0151428 ],\n",
       "         [ 0.01163244],\n",
       "         [ 0.01100093],\n",
       "         [-0.01884288],\n",
       "         [-0.01550775],\n",
       "         [ 0.00834179],\n",
       "         [ 0.00181515],\n",
       "         [-0.00344707],\n",
       "         [-0.00053377],\n",
       "         [ 0.000721  ],\n",
       "         [-0.02965313],\n",
       "         [-0.00326075],\n",
       "         [ 0.00252244],\n",
       "         [ 0.02310889],\n",
       "         [-0.01397272],\n",
       "         [-0.00136362],\n",
       "         [-0.03442283],\n",
       "         [-0.00025078],\n",
       "         [-0.01945294],\n",
       "         [-0.00232444]])],\n",
       " [array([ 0.0109841 , -0.01863054,  0.00862911,  0.        ,  0.        ,\n",
       "          0.02055012,  0.0686619 , -0.00885621, -0.00304158, -0.0718516 ,\n",
       "         -0.03462519, -0.03723033, -0.00383395,  0.02018334,  0.        ,\n",
       "         -0.00147874,  0.        ,  0.02418528,  0.        , -0.00389432]),\n",
       "  array([0.02960424])])"
      ]
     },
     "execution_count": 11,
     "metadata": {},
     "output_type": "execute_result"
    }
   ],
   "source": [
    "# test bprop directly\n",
    "perceptron.bprop(x,y.reshape(500,1))"
   ]
  },
  {
   "cell_type": "code",
   "execution_count": 12,
   "metadata": {},
   "outputs": [
    {
     "name": "stdout",
     "output_type": "stream",
     "text": [
      "[array([[-0.92228714]]), array([[-0.82700613]])]\n",
      "[array([0.75917272]), array([0.93522312])]\n"
     ]
    }
   ],
   "source": [
    "test = NN([1,1,1])\n",
    "triv = np.array([[1]])\n",
    "print(test.W)\n",
    "print(test.b)"
   ]
  },
  {
   "cell_type": "code",
   "execution_count": 13,
   "metadata": {},
   "outputs": [
    {
     "data": {
      "text/plain": [
       "array([[1.07011974]])"
      ]
     },
     "execution_count": 13,
     "metadata": {},
     "output_type": "execute_result"
    }
   ],
   "source": [
    "test.f(triv)"
   ]
  },
  {
   "cell_type": "code",
   "execution_count": 14,
   "metadata": {},
   "outputs": [
    {
     "name": "stdout",
     "output_type": "stream",
     "text": [
      "s = 0\n",
      "squares error: 0.0031050153617642583\n",
      "norm of gradient (W): 0.0 0.0005232692675314251\n",
      "norm of gradient (b): 0.0 0.01966711050322313\n",
      "s = 10\n",
      "squares error: 3.132532737235466e-05\n",
      "norm of gradient (W): 0.0 5.2790660269070946e-06\n",
      "norm of gradient (b): 0.0 0.00019841405056099102\n",
      "s = 20\n",
      "squares error: 3.1602939781516597e-07\n",
      "norm of gradient (W): 0.0 5.3258503500355654e-08\n",
      "norm of gradient (b): 0.0 2.001724424824713e-06\n",
      "s = 30\n",
      "squares error: 3.1883012457064225e-09\n",
      "norm of gradient (W): 0.0 5.373049286813813e-10\n",
      "norm of gradient (b): 0.0 2.019464176857765e-08\n",
      "s = 40\n",
      "squares error: 3.216556720157245e-11\n",
      "norm of gradient (W): 0.0 5.420666511496338e-12\n",
      "norm of gradient (b): 0.0 2.0373611426800846e-10\n",
      "s = 50\n",
      "squares error: 3.245062602660061e-13\n",
      "norm of gradient (W): 0.0 5.468705731684826e-14\n",
      "norm of gradient (b): 0.0 2.0554167157962516e-12\n",
      "s = 60\n",
      "squares error: 3.2738210973609473e-15\n",
      "norm of gradient (W): 0.0 5.517170661364649e-16\n",
      "norm of gradient (b): 0.0 2.0736322921101573e-14\n",
      "s = 70\n",
      "squares error: 3.302834573941118e-17\n",
      "norm of gradient (W): 0.0 5.5660651138479145e-18\n",
      "norm of gradient (b): 0.0 2.0920093048577143e-16\n",
      "s = 80\n",
      "squares error: 3.332104142304781e-19\n",
      "norm of gradient (W): 0.0 5.615393541066859e-20\n",
      "norm of gradient (b): 0.0 2.1105494273006383e-18\n",
      "s = 90\n",
      "squares error: 3.361636463387684e-21\n",
      "norm of gradient (W): 0.0 5.665131653347405e-22\n",
      "norm of gradient (b): 0.0 2.129243530148642e-20\n"
     ]
    },
    {
     "data": {
      "text/plain": [
       "array([[1.]])"
      ]
     },
     "execution_count": 14,
     "metadata": {},
     "output_type": "execute_result"
    }
   ],
   "source": [
    "test.SGD(triv,triv,K=1,S=100,nu=.1,output=True)\n",
    "test.f(triv)"
   ]
  },
  {
   "cell_type": "code",
   "execution_count": 15,
   "metadata": {},
   "outputs": [
    {
     "name": "stdout",
     "output_type": "stream",
     "text": [
      "[array([[ 0.74292854],\n",
      "       [-0.72558837],\n",
      "       [-0.27792435],\n",
      "       [ 0.98660469]])]\n",
      "[array([0.76934754])]\n",
      "[[3.17374508]]\n",
      "[3.17374508]\n"
     ]
    }
   ],
   "source": [
    "test2 = NN([4,1],L=1,phi=[Id],dphi=[One])\n",
    "triv2 = np.array([[1,2,3,4]])\n",
    "print(test2.W)\n",
    "print(test2.b)\n",
    "print(test2.f(triv2))\n",
    "print(np.dot(test2.W[0].flatten(),triv2.flatten())+test2.b[0])"
   ]
  }
 ],
 "metadata": {
  "kernelspec": {
   "display_name": "Python 3",
   "language": "python",
   "name": "python3"
  },
  "language_info": {
   "codemirror_mode": {
    "name": "ipython",
    "version": 3
   },
   "file_extension": ".py",
   "mimetype": "text/x-python",
   "name": "python",
   "nbconvert_exporter": "python",
   "pygments_lexer": "ipython3",
   "version": "3.6.4"
  }
 },
 "nbformat": 4,
 "nbformat_minor": 2
}
