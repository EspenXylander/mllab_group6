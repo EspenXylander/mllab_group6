{
 "cells": [
  {
   "cell_type": "code",
   "execution_count": 4,
   "metadata": {},
   "outputs": [],
   "source": [
    "#some imports\n",
    "\n",
    "import numpy as np\n",
    "from numpy import random\n",
    "from numpy import linalg\n",
    "import matplotlib.pyplot as plt\n",
    "\n",
    "random.seed(0)"
   ]
  },
  {
   "cell_type": "code",
   "execution_count": 23,
   "metadata": {},
   "outputs": [],
   "source": [
    "#This function plots the contourline func(x) = value\n",
    "def plot_contour_line(func, value=0, x_values=np.empty(0)):\n",
    "    \n",
    "    minx = -1\n",
    "    maxx = 2\n",
    "    miny = -1\n",
    "    maxy = 2\n",
    "    \n",
    "    #print(np.array(x_values.shape))\n",
    "    if (np.array(x_values.shape)[1] ==2):\n",
    "        x_values = x_values.T\n",
    "    \n",
    "    # sets minx, etc. if x_values is a two-dimensoinal array of values\n",
    "    if np.array(x_values.shape).shape[0] > 1:\n",
    "        dim = np.array(x_values.shape)[0]\n",
    "        if dim==2:\n",
    "            minx = ((int)(np.amin(x_values[0])))-1.5\n",
    "            maxx = ((int)(np.amax(x_values[0])))+1.5\n",
    "            miny = ((int)(np.amin(x_values[1])))-1.5\n",
    "            maxy = ((int)(np.amax(x_values[1])))+1.5\n",
    "    samplenum = 100\n",
    "    xrange = np.arange(minx, maxx, (maxx-minx)/samplenum)\n",
    "    yrange = np.arange(miny, maxy, (maxy-miny)/samplenum)\n",
    "    \n",
    "    #This generates a two-dimensional mesh\n",
    "    X, Y = np.meshgrid(xrange,yrange)\n",
    "    # print(X,Y)\n",
    "    \n",
    "    argsForf = np.array([X.flatten(),Y.flatten()]).T\n",
    "    Z = func(argsForf)\n",
    "    Z = np.reshape(Z,X.shape)\n",
    "    \n",
    "    plt.xlim(minx, maxx)\n",
    "    plt.ylim(miny, maxy)\n",
    "    plt.xlabel(r'$x_1$')\n",
    "    plt.ylabel(r'$x_2$')\n",
    "    plt.contour(X, Y, Z, alpha=0.5,levels=[value],linestyles='dashed',linewidths=3)\n",
    "    Z = np.where(Z > value, 1, -1)\n",
    "    plt.contourf(X, Y, Z, alpha=0.2, cmap=plt.cm.coolwarm)"
   ]
  },
  {
   "cell_type": "markdown",
   "metadata": {},
   "source": [
    "-------------------------------------------\n",
    "## Task 2.1\n"
   ]
  },
  {
   "cell_type": "code",
   "execution_count": 4,
   "metadata": {},
   "outputs": [],
   "source": [
    "def one_step(beta, y, x, b, n, i, j, C):\n",
    "    \"\"\"beta: (n); y: (n); x: (n, d); b, n, i, j, C scalar\"\"\"\n",
    "    #beta_old = np.zeros(0, n)\n",
    "    #beta_old[j] = beta[j]\n",
    "    #beta_old[i] = beta[i]\n",
    "    \n",
    "    f = lambda xk: np.multiply(beta.T, y) @ (x @ xk) + b\n",
    "    delta = y[i]*((f(x[j])-y[j]) - (f(x[i])-y[i]))\n",
    "    s = y[i] * y[j]\n",
    "    chi = x[i] @ x[i] + x[j] @ x[j] - 2 * (x[i] @ x[j])\n",
    "    gamma = s*beta[i] + beta[j]\n",
    "    if s==1:\n",
    "        if gamma - C > 0:\n",
    "            L = gamma - C\n",
    "            H = C\n",
    "        else:\n",
    "            L = 0\n",
    "            H = gamma\n",
    "    else:\n",
    "        if gamma > 0:\n",
    "            L = 0\n",
    "            H = C - gamma\n",
    "        else:\n",
    "            L = -gamma\n",
    "            H = C\n",
    "    if chi > 0:\n",
    "        if beta[i] + delta / chi > L:\n",
    "            if beta[i] + delta / chi > H:\n",
    "                beta[i] = H\n",
    "            else:\n",
    "                beta[i] = beta[i] + delta / chi\n",
    "        else:\n",
    "            if L > H:\n",
    "                beta[i] = H\n",
    "            else:\n",
    "                beta[i] = L\n",
    "    elif delta > 0:\n",
    "        beta[i] = L\n",
    "    else:\n",
    "        beta[i] = H\n",
    "    beta[j] = gamma - s*beta[i]\n",
    "    f = lambda xk: np.multiply(beta.T, y) @ (x @ xk) + b\n",
    "    b = b - 1/2*(f(x[i]) - y[i] + f(x[j]) - y[j])\n",
    "    return b, beta"
   ]
  },
  {
   "cell_type": "markdown",
   "metadata": {},
   "source": [
    "-------------------------------------------------\n",
    "## Task 2.2"
   ]
  },
  {
   "cell_type": "code",
   "execution_count": 5,
   "metadata": {},
   "outputs": [],
   "source": [
    "def create_test_data(d = 2, n = 40, lambda_1 = 4, lambda_2 = 0.5, lable_1 = -1, lable_2 = 1):\n",
    "    x_group_1 = np.random.exponential(1/lambda_1, (int)(n/2 * d)).reshape(((int)(n/2), d))\n",
    "    x_group_2 = np.random.exponential(1/lambda_2, (int)(n/2 * d)).reshape(((int)(n/2), d))\n",
    "    x = np.vstack((x_group_1, x_group_2))\n",
    "    y = np.hstack((np.full((int)(n/2), lable_1), np.full((int)(n/2), lable_2)))\n",
    "    return x, y"
   ]
  },
  {
   "cell_type": "markdown",
   "metadata": {},
   "source": [
    "------------------------------------------\n",
    "## Task 2.3\n",
    "\n",
    "Initialize beta and b with 0 and work with one_step function."
   ]
  },
  {
   "cell_type": "code",
   "execution_count": 6,
   "metadata": {},
   "outputs": [],
   "source": [
    "def sequential_minimal_optimization(x, y, C, iterations = 10000, n=40, d=2):\n",
    "    \"\"\"optimize the classification with SMO. \n",
    "    Enter x_k values in x of shape (n, d), y values of shape (n). C>0 is the regularization.\"\"\"\n",
    "    ## task a\n",
    "    b = 0\n",
    "    beta = np.zeros(n)\n",
    "    \n",
    "    for k in np.arange(0, iterations):\n",
    "        i = np.random.randint(0, n)\n",
    "        j = np.random.randint(0, n-1)\n",
    "        if j>=i:\n",
    "            j += 1\n",
    "        b, beta = one_step(beta, y, x, b, n, i, j, C)\n",
    "        \n",
    "    ## task b\n",
    "    f = lambda xk: np.multiply(beta.T, y) @ (x @ xk.T) + b\n",
    "    med = np.median(np.subtract(f(x[beta>0]), y[beta>0]))\n",
    "    b -= med\n",
    "    f = lambda xk: np.multiply(beta.T, y) @ (x @ xk.T) + b\n",
    "    return f, beta"
   ]
  },
  {
   "cell_type": "code",
   "execution_count": 7,
   "metadata": {},
   "outputs": [
    {
     "data": {
      "image/png": "[encoded data removed]",
      "text/plain": [
       "<Figure size 432x288 with 1 Axes>"
      ]
     },
     "metadata": {
      "needs_background": "light"
     },
     "output_type": "display_data"
    },
    {
     "data": {
      "image/png": "[encoded data removed]",
      "text/plain": [
       "<Figure size 432x288 with 1 Axes>"
      ]
     },
     "metadata": {
      "needs_background": "light"
     },
     "output_type": "display_data"
    },
    {
     "data": {
      "image/png": "[encoded data removed]",
      "text/plain": [
       "<Figure size 432x288 with 1 Axes>"
      ]
     },
     "metadata": {
      "needs_background": "light"
     },
     "output_type": "display_data"
    }
   ],
   "source": [
    "x, y = create_test_data()\n",
    "for C in (0.01, 1, 100):\n",
    "    f, beta = sequential_minimal_optimization(x, y, C)\n",
    "    plt.plot(x[:20,0], x[:20,1], 'bo')\n",
    "    plt.plot(x[20:,0], x[20:,1], 'ro')\n",
    "    plot_contour_line(f, 0, x)\n",
    "    plt.show()"
   ]
  },
  {
   "cell_type": "code",
   "execution_count": 8,
   "metadata": {},
   "outputs": [],
   "source": [
    "# task c + d\n",
    "def get_support_and_margin_defining_verctors(x, beta, C, n):\n",
    "        is_support_vector = beta>0\n",
    "        is_margin_defining_vector = np.logical_and(is_support_vector, C>beta)\n",
    "        return x[is_support_vector], x[is_margin_defining_vector]"
   ]
  },
  {
   "cell_type": "code",
   "execution_count": 9,
   "metadata": {
    "scrolled": false
   },
   "outputs": [
    {
     "name": "stdout",
     "output_type": "stream",
     "text": [
      "C: 0.01\n",
      "38 support vectors\n",
      "2 margin defining vectors\n"
     ]
    },
    {
     "data": {
      "image/png": "[encoded data removed]",
      "text/plain": [
       "<Figure size 432x288 with 1 Axes>"
      ]
     },
     "metadata": {
      "needs_background": "light"
     },
     "output_type": "display_data"
    },
    {
     "name": "stdout",
     "output_type": "stream",
     "text": [
      "C: 1\n",
      "19 support vectors\n",
      "3 margin defining vectors\n"
     ]
    },
    {
     "data": {
      "image/png": "[encoded data removed]",
      "text/plain": [
       "<Figure size 432x288 with 1 Axes>"
      ]
     },
     "metadata": {
      "needs_background": "light"
     },
     "output_type": "display_data"
    },
    {
     "name": "stdout",
     "output_type": "stream",
     "text": [
      "C: 100\n",
      "18 support vectors\n",
      "5 margin defining vectors\n"
     ]
    },
    {
     "data": {
      "image/png": "[encoded data removed]",
      "text/plain": [
       "<Figure size 432x288 with 1 Axes>"
      ]
     },
     "metadata": {
      "needs_background": "light"
     },
     "output_type": "display_data"
    }
   ],
   "source": [
    "x, y = create_test_data()\n",
    "#x = np.hstack((np.linspace(0, 1-1/20, 20).reshape(20, 1), np.zeros(20).reshape(20, 1)))\n",
    "#x = np.vstack((x, np.hstack((np.linspace(1/20, 1, 20).reshape(20, 1), np.zeros(20).reshape(20, 1)))))\n",
    "#y = np.append(np.full(20, 1), np.full(20, -1))\n",
    "for C in (0.01, 1, 100):\n",
    "    f, beta = sequential_minimal_optimization(x, y, C)\n",
    "    sup_vec, marg_vec = get_support_and_margin_defining_verctors(x, beta, C, 40)\n",
    "    print(\"C: \" + str(C))\n",
    "    print(str(sup_vec.shape[0]) + \" support vectors\")\n",
    "    print(str(marg_vec.shape[0]) + \" margin defining vectors\")\n",
    "    plt.plot(x[:20,0], x[:20,1], 'bo')\n",
    "    plt.plot(x[20:,0], x[20:,1], 'ro')\n",
    "    plt.plot(sup_vec[:,0], sup_vec[:,1], 'w+')\n",
    "    plt.plot(marg_vec[:,0], marg_vec[:,1], 'kx')\n",
    "    plot_contour_line(f, 0, x)\n",
    "    plt.show()"
   ]
  },
  {
   "cell_type": "markdown",
   "metadata": {},
   "source": [
    "--------------\n",
    "## Task 2.4"
   ]
  },
  {
   "cell_type": "code",
   "execution_count": 10,
   "metadata": {},
   "outputs": [],
   "source": [
    "# copies from sheet 1\n",
    "def generate_LLS_model(x,y):\n",
    "    \"\"\"Returns a linear function R^d->R which oprimizes the LLS problem\"\"\"\n",
    "    \n",
    "    #reorganize the data in a matrix with the first row being (1,...,1)^T\n",
    "    X_hat = np.asmatrix(np.hstack((np.ones((x.shape[0],1)),x)))\n",
    "\n",
    "    #solve for the best alpha which mimimines ||X_hat * alpha - y||^2\n",
    "    alpha = np.linalg.solve(X_hat.T @ X_hat, X_hat.T @ np.asmatrix(y).T)\n",
    "    \n",
    "    #implements the linear function based on the previously generated alpha\n",
    "    f = lambda z: alpha[0,0] + z @ alpha[1:,0]\n",
    "    \n",
    "    return f\n",
    "\n",
    "def confusion_matrix(x,y,f, val=0.5):\n",
    "    \"\"\"his calculates the confusion matrix for classes 0 and 1\"\"\"\n",
    "    \n",
    "    if x.shape[0] != y.shape[0]: \n",
    "        return None\n",
    "    \n",
    "    fx = f(x)>=0.5\n",
    "    \n",
    "    #we interpret the boolean values [data xi classified as 0, being 1 etc] as 1 and 0.\n",
    "    #then we use matrix multiplication to count how they are distributed.\n",
    "    c =  (np.asmatrix(np.vstack((y,np.logical_not(y)))) @ np.asmatrix(np.hstack((fx,np.logical_not(fx))))).T\n",
    "    \n",
    "    \n",
    "    acc = np.trace(c)/x.shape[0]\n",
    "    \n",
    "\n",
    "    return c, acc"
   ]
  },
  {
   "cell_type": "code",
   "execution_count": 14,
   "metadata": {},
   "outputs": [
    {
     "name": "stdout",
     "output_type": "stream",
     "text": [
      "--------------------------\n",
      "C: 0.01\n",
      "\n",
      "LLS model:\n",
      "accuracy: 0.186\n",
      "SMO model:\n",
      "accuracy: 0.915\n",
      "\n",
      "--------------------------\n",
      "C: 1\n",
      "\n",
      "LLS model:\n",
      "accuracy: 0.186\n",
      "SMO model:\n",
      "accuracy: 0.9045\n",
      "\n",
      "--------------------------\n",
      "C: 100\n",
      "\n",
      "LLS model:\n",
      "accuracy: 0.186\n",
      "SMO model:\n",
      "accuracy: 0.899\n",
      "\n"
     ]
    }
   ],
   "source": [
    "x, y = create_test_data(d = 2, n = 2000)\n",
    "f_LLS = generate_LLS_model(x,y)\n",
    "for C in (0.01, 1, 100):\n",
    "    f_SMO, beta = sequential_minimal_optimization(x, y, C, iterations = 10000, n=2000, d=2)\n",
    "    print(\"--------------------------\")\n",
    "    print(\"C: \" + str(C))\n",
    "    print()\n",
    "    print(\"LLS model:\")\n",
    "    matrix, accuracy = confusion_matrix(x,y,f_LLS)\n",
    "    print(\"accuracy: \" + str(accuracy))\n",
    "    #print(matrix)\n",
    "    print(\"SMO model:\")\n",
    "    accuracy = (np.sum(np.logical_and(y==1, f_SMO(x)>0))+np.sum(np.logical_and(y==-1, f_SMO(x)<0)))/2000\n",
    "    print(\"accuracy: \" + str(accuracy))\n",
    "    print()\n",
    "    \n",
    "    \"\"\"argsForf = np.array([X.flatten(),Y.flatten()]).T\n",
    "    Z = func(argsForf)\n",
    "    Z = np.reshape(Z,X.shape)\n",
    "    \n",
    "    plt.xlim(minx, maxx)\n",
    "    plt.ylim(miny, maxy)\n",
    "    plt.xlabel(r'$x_1$')\n",
    "    plt.ylabel(r'$x_2$')\n",
    "    plt.contour(X, Y, Z, alpha=0.5,levels=[value],linestyles='dashed',linewidths=3)\n",
    "    Z = np.where(Z > value, 1, -1)\"\"\""
   ]
  },
  {
   "cell_type": "markdown",
   "metadata": {},
   "source": [
    "-------------------------------------------\n",
    "-------------------------------------------\n",
    "# The kernel trick\n",
    "-------------------------------------------\n",
    "-------------------------------------------\n"
   ]
  },
  {
   "cell_type": "code",
   "execution_count": 15,
   "metadata": {},
   "outputs": [],
   "source": [
    "#some imports\n",
    "\n",
    "#import numpy as np\n",
    "#from numpy import random\n",
    "#from numpy import linalg\n",
    "#import matplotlib.pyplot as plt\n",
    "#import cmath\n",
    "\n",
    "random.seed(0)"
   ]
  },
  {
   "cell_type": "markdown",
   "metadata": {},
   "source": [
    "----------------\n",
    "## Task 2.6"
   ]
  },
  {
   "cell_type": "code",
   "execution_count": 25,
   "metadata": {},
   "outputs": [],
   "source": [
    "def generate_data(n = 100, radius_1 = 1, radius_2 = 2, lable_1 = -1, lable_2 = 1):\n",
    "    alpha = np.random.uniform(0, 2 * np.pi, n)\n",
    "    r1 = np.random.uniform(0, radius_1, (int)(n/2))\n",
    "    r2 = np.random.uniform(radius_1, radius_2, (int)(n/2))\n",
    "    x_val1 = r1 * np.exp(alpha[: (int)(n/2)] * 1j)\n",
    "    x_val2 = r2 * np.exp(alpha[(int)(n/2):] * 1j)\n",
    "    y = np.hstack((np.full((int)(n/2), lable_1), np.full((int)(n/2), lable_2)))\n",
    "    return np.hstack((x_val1, x_val2)), y"
   ]
  },
  {
   "cell_type": "code",
   "execution_count": 26,
   "metadata": {},
   "outputs": [],
   "source": [
    "def plot_generated_data():\n",
    "    plt.plot(x[:50,0], x[:50,1], 'bo')\n",
    "    plt.plot(x[50:,0], x[50:,1], 'ro')\n",
    "    #return x, y"
   ]
  },
  {
   "cell_type": "code",
   "execution_count": 31,
   "metadata": {},
   "outputs": [
    {
     "data": {
      "text/plain": [
       "[<matplotlib.lines.Line2D at 0x7f4138c9af28>]"
      ]
     },
     "execution_count": 31,
     "metadata": {},
     "output_type": "execute_result"
    },
    {
     "data": {
      "image/png": "[encoded data removed]",
      "text/plain": [
       "<Figure size 432x288 with 1 Axes>"
      ]
     },
     "metadata": {
      "needs_background": "light"
     },
     "output_type": "display_data"
    }
   ],
   "source": [
    "x, y = generate_data()\n",
    "x = np.hstack((x.real.reshape(100, 1), x.imag.reshape(100, 1)))\n",
    "plot_generated_data()\n",
    "lin = np.linspace(0,2*np.pi, 40)\n",
    "sphere = np.exp(lin*1j)\n",
    "plt.plot(sphere.real, sphere.imag)"
   ]
  },
  {
   "cell_type": "code",
   "execution_count": 32,
   "metadata": {
    "scrolled": false
   },
   "outputs": [
    {
     "data": {
      "image/png": "[encoded data removed]",
      "text/plain": [
       "<Figure size 432x288 with 1 Axes>"
      ]
     },
     "metadata": {
      "needs_background": "light"
     },
     "output_type": "display_data"
    }
   ],
   "source": [
    "# task a\n",
    "\n",
    "plot_generated_data()\n",
    "f_1, beta = sequential_minimal_optimization(x, y, C = 10, iterations = 10000, n=100, d=2)\n",
    "plot_contour_line(f_1, 0, x)"
   ]
  },
  {
   "cell_type": "code",
   "execution_count": 33,
   "metadata": {
    "scrolled": false
   },
   "outputs": [
    {
     "data": {
      "image/png": "[encoded data removed]",
      "text/plain": [
       "<Figure size 432x288 with 1 Axes>"
      ]
     },
     "metadata": {
      "needs_background": "light"
     },
     "output_type": "display_data"
    }
   ],
   "source": [
    "# task b\n",
    "x_old = x\n",
    "plot_generated_data()\n",
    "x = np.hstack((x_old[:,0].reshape(100, 1), x_old[:,1].reshape(100, 1), (np.multiply(x_old[:,0],x_old[:,0]) + np.multiply(x_old[:,1],x_old[:,1])).reshape(100, 1)))\n",
    "f_2, beta = sequential_minimal_optimization(x, y, C = 10, iterations = 10000, n=100, d=3)\n",
    "f_projection = lambda z: f_2(np.vstack((z[:,0], z[:,1] ,z[:,0]*z[:,0]+z[:,1]*z[:,1])).T)\n",
    "plot_contour_line(f_projection, 0, x_old)"
   ]
  },
  {
   "cell_type": "markdown",
   "metadata": {},
   "source": [
    "---------------------------\n",
    "# Task 2.7\n",
    "\n",
    "Redefining the SMO"
   ]
  },
  {
   "cell_type": "code",
   "execution_count": 97,
   "metadata": {},
   "outputs": [],
   "source": [
    "#some imports\n",
    "\n",
    "import numpy as np\n",
    "from numpy import random\n",
    "from numpy import linalg\n",
    "import matplotlib.pyplot as plt\n",
    "\n",
    "random.seed(0)"
   ]
  },
  {
   "cell_type": "code",
   "execution_count": 98,
   "metadata": {},
   "outputs": [],
   "source": [
    "#This function plots the contourline func(x) = value\n",
    "def plot_contour_line(func, value=0, x_values=np.empty(0)):\n",
    "    \n",
    "    minx = -1\n",
    "    maxx = 2\n",
    "    miny = -1\n",
    "    maxy = 2\n",
    "    \n",
    "    #print(np.array(x_values.shape))\n",
    "    if (np.array(x_values.shape)[1] ==2):\n",
    "        x_values = x_values.T\n",
    "    \n",
    "    # sets minx, etc. if x_values is a two-dimensoinal array of values\n",
    "    if np.array(x_values.shape).shape[0] > 1:\n",
    "        dim = np.array(x_values.shape)[0]\n",
    "        if dim==2:\n",
    "            minx = ((int)(np.amin(x_values[0])))-1.5\n",
    "            maxx = ((int)(np.amax(x_values[0])))+1.5\n",
    "            miny = ((int)(np.amin(x_values[1])))-1.5\n",
    "            maxy = ((int)(np.amax(x_values[1])))+1.5\n",
    "    samplenum = 100\n",
    "    xrange = np.arange(minx, maxx, (maxx-minx)/samplenum)\n",
    "    yrange = np.arange(miny, maxy, (maxy-miny)/samplenum)\n",
    "    \n",
    "    #This generates a two-dimensional mesh\n",
    "    X, Y = np.meshgrid(xrange,yrange)\n",
    "    # print(X,Y)\n",
    "    print(\"shape X: \", X.shape)\n",
    "    \n",
    "    argsForf = np.array([X.flatten(),Y.flatten()]).T\n",
    "    #Z = func(argsForf)\n",
    "    print(\"shape ARG: \", argsForf.shape)\n",
    "    Z = np.apply_along_axis(func, 1, argsForf)\n",
    "    print(func(argsForf[0]))\n",
    "    print(\"shape Z: \", Z.shape)\n",
    "    print(\"shape X: \", X.shape)\n",
    "    Z = np.reshape(Z,X.shape)\n",
    "    \n",
    "    plt.xlim(minx, maxx)\n",
    "    plt.ylim(miny, maxy)\n",
    "    plt.xlabel(r'$x_1$')\n",
    "    plt.ylabel(r'$x_2$')\n",
    "    plt.contour(X, Y, Z, alpha=0.5,levels=[value],linestyles='dashed',linewidths=3)\n",
    "    Z = np.where(Z > value, 1, -1)\n",
    "    plt.contourf(X, Y, Z, alpha=0.2, cmap=plt.cm.coolwarm)"
   ]
  },
  {
   "cell_type": "code",
   "execution_count": 99,
   "metadata": {},
   "outputs": [],
   "source": [
    "def one_step_kernel(beta, y, x, b, n, i, j, C, kernel):\n",
    "    \"\"\"beta: (n); y: (n); x: (n, d); b, n, i, j, C scalar\"\"\"\n",
    "    #beta_old = np.zeros(0, n)\n",
    "    #beta_old[j] = beta[j]\n",
    "    #beta_old[i] = beta[i]\n",
    "    \n",
    "    f = lambda xk: np.multiply(beta.T, y) @ kernel(x, xk) + b\n",
    "    delta = y[i]*((f(x[j])-y[j]) - (f(x[i])-y[i]))\n",
    "    s = y[i] * y[j]\n",
    "    chi = kernel(x[i], x[i]) + kernel(x[j], x[j]) - 2 * kernel(x[i], x[j])\n",
    "    gamma = s*beta[i] + beta[j]\n",
    "    if s==1:\n",
    "        if gamma - C > 0:\n",
    "            L = gamma - C\n",
    "            H = C\n",
    "        else:\n",
    "            L = 0\n",
    "            H = gamma\n",
    "    else:\n",
    "        if gamma > 0:\n",
    "            L = 0\n",
    "            H = C - gamma\n",
    "        else:\n",
    "            L = -gamma\n",
    "            H = C\n",
    "    if chi > 0:\n",
    "        if beta[i] + delta / chi > L:\n",
    "            if beta[i] + delta / chi > H:\n",
    "                beta[i] = H\n",
    "            else:\n",
    "                beta[i] = beta[i] + delta / chi\n",
    "        else:\n",
    "            if L > H:\n",
    "                beta[i] = H\n",
    "            else:\n",
    "                beta[i] = L\n",
    "    elif delta > 0:\n",
    "        beta[i] = L\n",
    "    else:\n",
    "        beta[i] = H\n",
    "    beta[j] = gamma - s*beta[i]\n",
    "    f = lambda xk: np.multiply(beta.T, y) @ kernel(x, xk) + b\n",
    "    b = b - 1/2*(f(x[i]) - y[i] + f(x[j]) - y[j])\n",
    "    return b, beta\n",
    "\n",
    "def sequential_minimal_optimization_kernel(x, y, C, kernel, iterations = 10000, n=40, d=2):\n",
    "    \"\"\"optimize the classification with SMO. \n",
    "    Enter x_k values in x of shape (n, d), y values of shape (n). C>0 is the regularization.\"\"\"\n",
    "    ## task a\n",
    "    b = 0\n",
    "    beta = np.zeros(n)\n",
    "    \n",
    "    for k in np.arange(0, iterations):\n",
    "        i = np.random.randint(0, n)\n",
    "        j = np.random.randint(0, n-1)\n",
    "        if j>=i:\n",
    "            j += 1\n",
    "        b, beta = one_step_kernel(beta, y, x, b, n, i, j, C, kernel)\n",
    "        \n",
    "    ## task b\n",
    "    f = lambda xk: np.multiply(beta.T, y) @ kernel(x, xk) + b\n",
    "    #med = np.median(np.subtract(f(x[beta>0]), y[beta>0]))\n",
    "    med = np.median(np.subtract(np.apply_along_axis(f, 1, x[beta>0]), y[beta>0]))\n",
    "    b -= med\n",
    "    f = lambda xk: np.multiply(beta.T, y) @ kernel(x, xk) + b\n",
    "    return f, beta"
   ]
  },
  {
   "cell_type": "code",
   "execution_count": 100,
   "metadata": {},
   "outputs": [],
   "source": [
    "def generate_data(n = 100, radius_1 = 1, radius_2 = 2, lable_1 = -1, lable_2 = 1):\n",
    "    alpha = np.random.uniform(0, 2 * np.pi, n)\n",
    "    r1 = np.random.uniform(0, radius_1, (int)(n/2))\n",
    "    r2 = np.random.uniform(radius_1, radius_2, (int)(n/2))\n",
    "    x_val1 = r1 * np.exp(alpha[: (int)(n/2)] * 1j)\n",
    "    x_val2 = r2 * np.exp(alpha[(int)(n/2):] * 1j)\n",
    "    y = np.hstack((np.full((int)(n/2), lable_1), np.full((int)(n/2), lable_2)))\n",
    "    return np.hstack((x_val1, x_val2)), y\n",
    "\n",
    "def plot_generated_data():\n",
    "    plt.plot(x[:50,0], x[:50,1], 'bo')\n",
    "    plt.plot(x[50:,0], x[50:,1], 'ro')\n",
    "    #return x, y"
   ]
  },
  {
   "cell_type": "code",
   "execution_count": 101,
   "metadata": {},
   "outputs": [],
   "source": [
    "# Gaussian Kernel\n",
    "def get_gaussian_kernel(sigma = 1):\n",
    "    return lambda t, x : np.exp(-linalg.norm(np.subtract(t,x))/(2*sigma)) if t.ndim == 1 else np.apply_along_axis(linalg.norm, 1 ,np.subtract(t,x)/(2*sigma))"
   ]
  },
  {
   "cell_type": "code",
   "execution_count": 102,
   "metadata": {},
   "outputs": [
    {
     "name": "stdout",
     "output_type": "stream",
     "text": [
      "shape X:  (100, 100)\n",
      "shape ARG:  (10000, 2)\n",
      "111.05043213655654\n",
      "shape Z:  (10000,)\n",
      "shape X:  (100, 100)\n"
     ]
    },
    {
     "data": {
      "image/png": "[encoded data removed]",
      "text/plain": [
       "<Figure size 432x288 with 1 Axes>"
      ]
     },
     "metadata": {
      "needs_background": "light"
     },
     "output_type": "display_data"
    }
   ],
   "source": [
    "x, y = generate_data()\n",
    "x = np.hstack((x.real.reshape(100, 1), x.imag.reshape(100, 1)))\n",
    "plot_generated_data()\n",
    "f_3, beta = sequential_minimal_optimization_kernel(x, y, 10, get_gaussian_kernel(),iterations = 10000, n=100, d=3)\n",
    "plot_contour_line(f_3, 0, x)"
   ]
  },
  {
   "cell_type": "code",
   "execution_count": null,
   "metadata": {},
   "outputs": [],
   "source": []
  }
 ],
 "metadata": {
  "kernelspec": {
   "display_name": "Python 3",
   "language": "python",
   "name": "python3"
  },
  "language_info": {
   "codemirror_mode": {
    "name": "ipython",
    "version": 3
   },
   "file_extension": ".py",
   "mimetype": "text/x-python",
   "name": "python",
   "nbconvert_exporter": "python",
   "pygments_lexer": "ipython3",
   "version": "3.7.0"
  }
 },
 "nbformat": 4,
 "nbformat_minor": 2
}
